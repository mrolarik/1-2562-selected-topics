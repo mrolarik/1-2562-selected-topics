{
  "nbformat": 4,
  "nbformat_minor": 0,
  "metadata": {
    "colab": {
      "name": "Homework1.ipynb",
      "version": "0.3.2",
      "provenance": []
    },
    "kernelspec": {
      "name": "python3",
      "display_name": "Python 3"
    }
  },
  "cells": [
    {
      "cell_type": "markdown",
      "metadata": {
        "id": "PJmwZsrgeC8M",
        "colab_type": "text"
      },
      "source": [
        "# เขียนโปรแกรมหาพื้นที่ โดยมีเมนูปรากฎดังต่อไปนี้\n",
        "\n",
        "```\n",
        "Calculation  \n",
        "================\n",
        "1. Rectangle\n",
        "2. Square\n",
        "3. Triangle\n",
        "4. Exit\n",
        "\n",
        "Please enter a number (1-4):\n",
        "```\n",
        "\n"
      ]
    },
    {
      "cell_type": "code",
      "metadata": {
        "id": "0zePGiH0dzf9",
        "colab_type": "code",
        "colab": {
          "base_uri": "https://localhost:8080/",
          "height": 1000
        },
        "outputId": "ad1dbde5-48ee-4280-870d-dd12650a7ca5"
      },
      "source": [
        "import sys\n",
        "\n",
        "while(True):\n",
        "  print()\n",
        "  print('='*20)\n",
        "  print('Calculation')\n",
        "  print('='*20)\n",
        "  print('1. Rectangle')\n",
        "  print('2. Square')\n",
        "  print('3. Triangle')\n",
        "  print('4. Exit')\n",
        "  \n",
        "  inp = input('Please enter a number (1-4): ')\n",
        "  \n",
        "  if(int(inp) == 1):\n",
        "    print()\n",
        "    print('*'*10)\n",
        "    print('Rectangle')\n",
        "    print('*'*10)\n",
        "    w = input('Enter number of width (cm): ')\n",
        "    h = input('Enter number of height (cm): ')\n",
        "    area = int(w) * int(h)\n",
        "    print('The area of rectangle ', int(w) , 'x', int(h), 'is', area, 'CM2')\n",
        "    \n",
        "  elif(int(inp) == 2):\n",
        "    print()\n",
        "    print('*'*10)\n",
        "    print('Square')\n",
        "    print('*'*10)\n",
        "    s = input('Enter number of side (cm): ')    \n",
        "    area = int(s) ** 2\n",
        "    print('The area of square ', int(s) , 'x', int(s), 'is', area, 'CM2')\n",
        "    \n",
        "  elif(int(inp) == 3):\n",
        "    print()\n",
        "    print('*'*10)\n",
        "    print('Triangle')\n",
        "    print('*'*10)\n",
        "    b = input('Enter number of base (cm): ')\n",
        "    h = input('Enter number of height (cm): ')\n",
        "    area = (1/2.0) * int(w) * int(h)\n",
        "    print('The area of triangle - base: ', int(b) , ' height: ', int(h), 'is', area, 'CM2')\n",
        "    \n",
        "  elif(int(inp) == 4):    \n",
        "    sys.exit()\n",
        "  else:\n",
        "    print('Please enter only number 1-4!!!\\n')"
      ],
      "execution_count": 10,
      "outputs": [
        {
          "output_type": "stream",
          "text": [
            "\n",
            "====================\n",
            "Calculation\n",
            "====================\n",
            "1. Rectangle\n",
            "2. Square\n",
            "3. Triangle\n",
            "4. Exit\n",
            "Please enter a number (1-4): 1\n",
            "\n",
            "**********\n",
            "Rectangle\n",
            "**********\n",
            "Enter number of width (cm): 2\n",
            "Enter number of height (cm): 3\n",
            "The area of rectangle  2 x 3 is 6 CM2\n",
            "\n",
            "====================\n",
            "Calculation\n",
            "====================\n",
            "1. Rectangle\n",
            "2. Square\n",
            "3. Triangle\n",
            "4. Exit\n",
            "Please enter a number (1-4): 1\n",
            "\n",
            "**********\n",
            "Rectangle\n",
            "**********\n",
            "Enter number of width (cm): 4\n",
            "Enter number of height (cm): 4\n",
            "The area of rectangle  4 x 4 is 16 CM2\n",
            "\n",
            "====================\n",
            "Calculation\n",
            "====================\n",
            "1. Rectangle\n",
            "2. Square\n",
            "3. Triangle\n",
            "4. Exit\n",
            "Please enter a number (1-4): 2\n",
            "\n",
            "**********\n",
            "Square\n",
            "**********\n",
            "Enter number of side (cm): 14\n",
            "The area of square  14 x 14 is 196 CM2\n",
            "\n",
            "====================\n",
            "Calculation\n",
            "====================\n",
            "1. Rectangle\n",
            "2. Square\n",
            "3. Triangle\n",
            "4. Exit\n",
            "Please enter a number (1-4): 3\n",
            "\n",
            "**********\n",
            "Triangle\n",
            "**********\n",
            "Enter number of base (cm): 2\n",
            "Enter number of height (cm): 4\n",
            "The area of triangle - base:  2  height:  4 is 8.0 CM2\n",
            "\n",
            "====================\n",
            "Calculation\n",
            "====================\n",
            "1. Rectangle\n",
            "2. Square\n",
            "3. Triangle\n",
            "4. Exit\n",
            "Please enter a number (1-4): 4\n"
          ],
          "name": "stdout"
        },
        {
          "output_type": "error",
          "ename": "SystemExit",
          "evalue": "ignored",
          "traceback": [
            "An exception has occurred, use %tb to see the full traceback.\n",
            "\u001b[0;31mSystemExit\u001b[0m\n"
          ]
        },
        {
          "output_type": "stream",
          "text": [
            "/usr/local/lib/python3.6/dist-packages/IPython/core/interactiveshell.py:2890: UserWarning: To exit: use 'exit', 'quit', or Ctrl-D.\n",
            "  warn(\"To exit: use 'exit', 'quit', or Ctrl-D.\", stacklevel=1)\n"
          ],
          "name": "stderr"
        }
      ]
    },
    {
      "cell_type": "code",
      "metadata": {
        "id": "KUgkqvw0fBib",
        "colab_type": "code",
        "colab": {}
      },
      "source": [
        ""
      ],
      "execution_count": 0,
      "outputs": []
    }
  ]
}