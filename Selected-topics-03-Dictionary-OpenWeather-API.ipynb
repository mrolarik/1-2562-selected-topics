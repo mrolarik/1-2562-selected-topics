{
  "nbformat": 4,
  "nbformat_minor": 0,
  "metadata": {
    "colab": {
      "name": "Selected-topics-03-Dictionary-OpenWeather-API.ipynb",
      "version": "0.3.2",
      "provenance": [],
      "toc_visible": true
    },
    "kernelspec": {
      "name": "python3",
      "display_name": "Python 3"
    }
  },
  "cells": [
    {
      "cell_type": "markdown",
      "metadata": {
        "id": "6bUSIVqSzaYL",
        "colab_type": "text"
      },
      "source": [
        "# Dictionary"
      ]
    },
    {
      "cell_type": "markdown",
      "metadata": {
        "id": "nfvqiCje1hFs",
        "colab_type": "text"
      },
      "source": [
        "## การสร้าง Dictionary"
      ]
    },
    {
      "cell_type": "code",
      "metadata": {
        "id": "TWyiNiA6zm0B",
        "colab_type": "code",
        "outputId": "29bc57ae-6f17-44ba-c9ff-cc25b62f9f21",
        "colab": {
          "base_uri": "https://localhost:8080/",
          "height": 34
        }
      },
      "source": [
        "carDict =\t{\n",
        "  'country': 'USA',  \n",
        "  'brand': 'Ford',\n",
        "  'model': 'Mustang',\n",
        "  'year': 1964\n",
        "}\n",
        "\n",
        "print(carDict)"
      ],
      "execution_count": 0,
      "outputs": [
        {
          "output_type": "stream",
          "text": [
            "{'country': 'USA', 'brand': 'Ford', 'model': 'Mustang', 'year': 1964}\n"
          ],
          "name": "stdout"
        }
      ]
    },
    {
      "cell_type": "markdown",
      "metadata": {
        "id": "JCaRXhIs4tYi",
        "colab_type": "text"
      },
      "source": [
        "ตรวจสอบประเภทข้อมูล"
      ]
    },
    {
      "cell_type": "code",
      "metadata": {
        "id": "BXQc2Mpg17EH",
        "colab_type": "code",
        "outputId": "3966867b-c73d-47ce-99a3-d665ae0ec7dd",
        "colab": {
          "base_uri": "https://localhost:8080/",
          "height": 34
        }
      },
      "source": [
        "type(carDict)"
      ],
      "execution_count": 0,
      "outputs": [
        {
          "output_type": "execute_result",
          "data": {
            "text/plain": [
              "dict"
            ]
          },
          "metadata": {
            "tags": []
          },
          "execution_count": 136
        }
      ]
    },
    {
      "cell_type": "markdown",
      "metadata": {
        "id": "llwOKXEC1d7l",
        "colab_type": "text"
      },
      "source": [
        "การเข้าถึงข้อมูลใน Dictionary"
      ]
    },
    {
      "cell_type": "code",
      "metadata": {
        "id": "R6njL1811klJ",
        "colab_type": "code",
        "outputId": "5f6775f0-cbb4-4579-b16a-cc5bf608dd8e",
        "colab": {
          "base_uri": "https://localhost:8080/",
          "height": 85
        }
      },
      "source": [
        "print(carDict['country'])\n",
        "print(carDict['brand'])\n",
        "print(carDict['model'])\n",
        "print(carDict['year'])"
      ],
      "execution_count": 0,
      "outputs": [
        {
          "output_type": "stream",
          "text": [
            "USA\n",
            "Ford\n",
            "Mustang\n",
            "1964\n"
          ],
          "name": "stdout"
        }
      ]
    },
    {
      "cell_type": "markdown",
      "metadata": {
        "id": "pgsqAVbQ09tq",
        "colab_type": "text"
      },
      "source": [
        "## Nested Dictionary"
      ]
    },
    {
      "cell_type": "code",
      "metadata": {
        "id": "uwI1wIz6zuAp",
        "colab_type": "code",
        "outputId": "cdf109ae-442c-4ede-90d3-f80b0555dc70",
        "colab": {
          "base_uri": "https://localhost:8080/",
          "height": 74
        }
      },
      "source": [
        "carDict =\t{\n",
        "    1: \n",
        "  {'country': 'USA',\n",
        "  'brand': 'Ford',\n",
        "  'model': 'Mustang',\n",
        "  'year': 1964},\n",
        "    \n",
        "   2:  \n",
        "  {'country': 'JAPAN',\n",
        "  'brand': 'Toyota',\n",
        "  'model': 'CHR',\n",
        "  'year': 2018}\n",
        "}\n",
        "\n",
        "print(carDict)"
      ],
      "execution_count": 0,
      "outputs": [
        {
          "output_type": "stream",
          "text": [
            "{1: {'country': 'USA', 'brand': 'Ford', 'model': 'Mustang', 'year': 1964}, 2: {'country': 'JAPAN', 'brand': 'Toyota', 'model': 'CHR', 'year': 2018}}\n"
          ],
          "name": "stdout"
        }
      ]
    },
    {
      "cell_type": "markdown",
      "metadata": {
        "id": "JacyG2cl5Eoi",
        "colab_type": "text"
      },
      "source": [
        "## การเข้าถึงข้อมูลใน Dictionary"
      ]
    },
    {
      "cell_type": "markdown",
      "metadata": {
        "id": "1rUjfKDM1ZF-",
        "colab_type": "text"
      },
      "source": [
        "### การเข้าถึงข้อมูลใน Nested Dictionary"
      ]
    },
    {
      "cell_type": "code",
      "metadata": {
        "id": "5ftqfYSI2SeW",
        "colab_type": "code",
        "outputId": "2ec79a8f-8e74-43c6-9e84-0aa323a4286c",
        "colab": {
          "base_uri": "https://localhost:8080/",
          "height": 51
        }
      },
      "source": [
        "# เข้าถึงข้อมูลชุดที่หนึ่ง\n",
        "print('First data:', carDict[1])\n",
        "\n",
        "# เข้าถึงข้อมูลชุดที่สอง\n",
        "print('Second data:', carDict[2])"
      ],
      "execution_count": 0,
      "outputs": [
        {
          "output_type": "stream",
          "text": [
            "First data: {'country': 'USA', 'brand': 'Ford', 'model': 'Mustang', 'year': 1964}\n",
            "Second data: {'country': 'JAPAN', 'brand': 'Toyota', 'model': 'CHR', 'year': 2018}\n"
          ],
          "name": "stdout"
        }
      ]
    },
    {
      "cell_type": "markdown",
      "metadata": {
        "id": "sV5tTnpZ_d3M",
        "colab_type": "text"
      },
      "source": [
        "การเข้าถึงข้อมูลผิดพลาด"
      ]
    },
    {
      "cell_type": "code",
      "metadata": {
        "id": "Vrlp6OQw_juA",
        "colab_type": "code",
        "outputId": "3ce84391-4ec9-4933-eeae-581197674553",
        "colab": {
          "base_uri": "https://localhost:8080/",
          "height": 164
        }
      },
      "source": [
        "print('First data:', carDict[3])"
      ],
      "execution_count": 0,
      "outputs": [
        {
          "output_type": "error",
          "ename": "KeyError",
          "evalue": "ignored",
          "traceback": [
            "\u001b[0;31m---------------------------------------------------------------------------\u001b[0m",
            "\u001b[0;31mKeyError\u001b[0m                                  Traceback (most recent call last)",
            "\u001b[0;32m<ipython-input-154-6284fbb0d16a>\u001b[0m in \u001b[0;36m<module>\u001b[0;34m()\u001b[0m\n\u001b[0;32m----> 1\u001b[0;31m \u001b[0mprint\u001b[0m\u001b[0;34m(\u001b[0m\u001b[0;34m'First data:'\u001b[0m\u001b[0;34m,\u001b[0m \u001b[0mcarDict\u001b[0m\u001b[0;34m[\u001b[0m\u001b[0;36m3\u001b[0m\u001b[0;34m]\u001b[0m\u001b[0;34m)\u001b[0m\u001b[0;34m\u001b[0m\u001b[0;34m\u001b[0m\u001b[0m\n\u001b[0m",
            "\u001b[0;31mKeyError\u001b[0m: 3"
          ]
        }
      ]
    },
    {
      "cell_type": "code",
      "metadata": {
        "id": "h-chZ9rx_p8U",
        "colab_type": "code",
        "outputId": "f73e6c29-34de-43e0-cf0d-5940544bd465",
        "colab": {
          "base_uri": "https://localhost:8080/",
          "height": 164
        }
      },
      "source": [
        "print('First data:', carDict[1]['brnad'])"
      ],
      "execution_count": 0,
      "outputs": [
        {
          "output_type": "error",
          "ename": "KeyError",
          "evalue": "ignored",
          "traceback": [
            "\u001b[0;31m---------------------------------------------------------------------------\u001b[0m",
            "\u001b[0;31mKeyError\u001b[0m                                  Traceback (most recent call last)",
            "\u001b[0;32m<ipython-input-158-6247a4cfa976>\u001b[0m in \u001b[0;36m<module>\u001b[0;34m()\u001b[0m\n\u001b[0;32m----> 1\u001b[0;31m \u001b[0mprint\u001b[0m\u001b[0;34m(\u001b[0m\u001b[0;34m'First data:'\u001b[0m\u001b[0;34m,\u001b[0m \u001b[0mcarDict\u001b[0m\u001b[0;34m[\u001b[0m\u001b[0;36m1\u001b[0m\u001b[0;34m]\u001b[0m\u001b[0;34m[\u001b[0m\u001b[0;34m'brnad'\u001b[0m\u001b[0;34m]\u001b[0m\u001b[0;34m)\u001b[0m\u001b[0;34m\u001b[0m\u001b[0;34m\u001b[0m\u001b[0m\n\u001b[0m",
            "\u001b[0;31mKeyError\u001b[0m: 'brnad'"
          ]
        }
      ]
    },
    {
      "cell_type": "markdown",
      "metadata": {
        "id": "Q2CfF6KW2wOD",
        "colab_type": "text"
      },
      "source": [
        "การเข้าถึงรายละเอียดข้อมูลของชุดที่หนึ่ง"
      ]
    },
    {
      "cell_type": "code",
      "metadata": {
        "id": "KHeWGhGg2z5x",
        "colab_type": "code",
        "outputId": "e2298908-089b-413c-a106-37ea588bcbf1",
        "colab": {
          "base_uri": "https://localhost:8080/",
          "height": 85
        }
      },
      "source": [
        "print('First data:', carDict[1])\n",
        "print('Frist car country:', carDict[1]['country'])\n",
        "print('Frist car brand:', carDict[1]['brand'])\n",
        "print('Frist car model:', carDict[1]['model'])\n",
        "print('Frist car year:', carDict[1]['year'])"
      ],
      "execution_count": 0,
      "outputs": [
        {
          "output_type": "stream",
          "text": [
            "First data: {'brand': 'Ford', 'model': 'Mustang', 'year': 1964}\n",
            "Frist car brand: Ford\n",
            "Frist car model: Mustang\n",
            "Frist car year: 1964\n"
          ],
          "name": "stdout"
        }
      ]
    },
    {
      "cell_type": "markdown",
      "metadata": {
        "id": "QRMbtUhj3GSa",
        "colab_type": "text"
      },
      "source": [
        "การเข้าถึงรายละเอียดข้อมูลของชุดที่สอง"
      ]
    },
    {
      "cell_type": "code",
      "metadata": {
        "id": "XFD3h_Vy3GoJ",
        "colab_type": "code",
        "outputId": "c3680767-7d5c-47dd-d63c-7d969aac6bc1",
        "colab": {
          "base_uri": "https://localhost:8080/",
          "height": 102
        }
      },
      "source": [
        "print('First data:', carDict[2])\n",
        "print('Frist car country:', carDict[2]['country'])\n",
        "print('Frist car brand:', carDict[2]['brand'])\n",
        "print('Frist car model:', carDict[2]['model'])\n",
        "print('Frist car year:', carDict[2]['year'])"
      ],
      "execution_count": 0,
      "outputs": [
        {
          "output_type": "stream",
          "text": [
            "First data: {'country': 'JAPAN', 'brand': 'Toyota', 'model': 'CHR', 'year': 2018}\n",
            "Frist car country: JAPAN\n",
            "Frist car brand: Toyota\n",
            "Frist car model: CHR\n",
            "Frist car year: 2018\n"
          ],
          "name": "stdout"
        }
      ]
    },
    {
      "cell_type": "markdown",
      "metadata": {
        "id": "HPrnCx2V37h_",
        "colab_type": "text"
      },
      "source": [
        "### การเข้าถึงข้อมูลใน Dictionary แบบ iteration"
      ]
    },
    {
      "cell_type": "code",
      "metadata": {
        "id": "6QaQOmB43V-y",
        "colab_type": "code",
        "outputId": "240b36ec-430b-4688-9c59-d83c22afcdc5",
        "colab": {
          "base_uri": "https://localhost:8080/",
          "height": 221
        }
      },
      "source": [
        "for c_id, c_info in carDict.items():\n",
        "    print('\\nCar ID:', c_id)\n",
        "    \n",
        "    for key in c_info:\n",
        "        print(key + ':', c_info[key])"
      ],
      "execution_count": 0,
      "outputs": [
        {
          "output_type": "stream",
          "text": [
            "\n",
            "Car ID: 1\n",
            "country: USA\n",
            "brand: Ford\n",
            "model: Mustang\n",
            "year: 1964\n",
            "\n",
            "Car ID: 2\n",
            "country: JAPAN\n",
            "brand: Toyota\n",
            "model: CHR\n",
            "year: 2018\n"
          ],
          "name": "stdout"
        }
      ]
    },
    {
      "cell_type": "markdown",
      "metadata": {
        "id": "SDfgK5r_46hY",
        "colab_type": "text"
      },
      "source": [
        "## การเพิ่มข้อมูลลงใน Dictionary"
      ]
    },
    {
      "cell_type": "code",
      "metadata": {
        "id": "Ie7tltJI46yh",
        "colab_type": "code",
        "outputId": "929ac496-7bc2-4781-a49c-21beab06864f",
        "colab": {
          "base_uri": "https://localhost:8080/",
          "height": 34
        }
      },
      "source": [
        "carDict[3] = {}\n",
        "\n",
        "carDict[3]['country'] = 'FRANCE'\n",
        "carDict[3]['brand'] = 'Peugeot'\n",
        "carDict[3]['model'] = '3008'\n",
        "carDict[3]['year'] = '2018'\n",
        "\n",
        "print(carDict[3])"
      ],
      "execution_count": 0,
      "outputs": [
        {
          "output_type": "stream",
          "text": [
            "{'country': 'FRANCE', 'brand': 'Peugeot', 'model': '3008', 'year': '2018'}\n"
          ],
          "name": "stdout"
        }
      ]
    },
    {
      "cell_type": "code",
      "metadata": {
        "id": "3-e96lED54rc",
        "colab_type": "code",
        "outputId": "f93bc64a-b63d-4db5-a2cf-083f1eb9aff7",
        "colab": {
          "base_uri": "https://localhost:8080/",
          "height": 323
        }
      },
      "source": [
        "for c_id, c_info in carDict.items():\n",
        "    print('\\nCar ID:', c_id)\n",
        "    \n",
        "    for key in c_info:\n",
        "        print(key + ':', c_info[key])"
      ],
      "execution_count": 0,
      "outputs": [
        {
          "output_type": "stream",
          "text": [
            "\n",
            "Car ID: 1\n",
            "country: USA\n",
            "brand: Ford\n",
            "model: Mustang\n",
            "year: 1964\n",
            "\n",
            "Car ID: 2\n",
            "country: JAPAN\n",
            "brand: Toyota\n",
            "model: CHR\n",
            "year: 2018\n",
            "\n",
            "Car ID: 3\n",
            "country: FRANCE\n",
            "brand: Peugeot\n",
            "model: 3008\n",
            "year: 2018\n"
          ],
          "name": "stdout"
        }
      ]
    },
    {
      "cell_type": "markdown",
      "metadata": {
        "id": "aajzIrF37AaS",
        "colab_type": "text"
      },
      "source": [
        "## การลบข้อมูลออกจาก Dictionary"
      ]
    },
    {
      "cell_type": "markdown",
      "metadata": {
        "id": "8Mnk1g3c7Vxs",
        "colab_type": "text"
      },
      "source": [
        "### ลบข้อมูลทั้งชุด (Set)"
      ]
    },
    {
      "cell_type": "code",
      "metadata": {
        "id": "eY-n9B1E7RNZ",
        "colab_type": "code",
        "outputId": "f370de54-959e-46ec-ebee-2d165082840a",
        "colab": {
          "base_uri": "https://localhost:8080/",
          "height": 221
        }
      },
      "source": [
        "del carDict[1]\n",
        "\n",
        "for c_id, c_info in carDict.items():\n",
        "    print('\\nCar ID:', c_id)\n",
        "    \n",
        "    for key in c_info:\n",
        "        print(key + ':', c_info[key])"
      ],
      "execution_count": 0,
      "outputs": [
        {
          "output_type": "stream",
          "text": [
            "\n",
            "Car ID: 2\n",
            "country: JAPAN\n",
            "brand: Toyota\n",
            "model: CHR\n",
            "year: 2018\n",
            "\n",
            "Car ID: 3\n",
            "country: FRANCE\n",
            "brand: Peugeot\n",
            "model: 3008\n",
            "year: 2018\n"
          ],
          "name": "stdout"
        }
      ]
    },
    {
      "cell_type": "markdown",
      "metadata": {
        "id": "ENMaT--D7fVm",
        "colab_type": "text"
      },
      "source": [
        "###  ลบข้อมูล โดยเลือกลบเฉพาะ **key** ที่กำหนดเท่านั้น"
      ]
    },
    {
      "cell_type": "code",
      "metadata": {
        "id": "AFK9pqay7pVn",
        "colab_type": "code",
        "outputId": "a00f1339-afec-4d3a-b91f-737b73513b53",
        "colab": {
          "base_uri": "https://localhost:8080/",
          "height": 204
        }
      },
      "source": [
        "del carDict[2]['year']\n",
        "\n",
        "for c_id, c_info in carDict.items():\n",
        "    print('\\nCar ID:', c_id)\n",
        "    \n",
        "    for key in c_info:\n",
        "        print(key + ':', c_info[key])"
      ],
      "execution_count": 0,
      "outputs": [
        {
          "output_type": "stream",
          "text": [
            "\n",
            "Car ID: 2\n",
            "country: JAPAN\n",
            "brand: Toyota\n",
            "model: CHR\n",
            "\n",
            "Car ID: 3\n",
            "country: FRANCE\n",
            "brand: Peugeot\n",
            "model: 3008\n",
            "year: 2018\n"
          ],
          "name": "stdout"
        }
      ]
    },
    {
      "cell_type": "markdown",
      "metadata": {
        "id": "2I5LOiY-8czs",
        "colab_type": "text"
      },
      "source": [
        "### ลบข้อมูลตัวสุดท้ายด้วย popitem()"
      ]
    },
    {
      "cell_type": "code",
      "metadata": {
        "id": "IZT7Xj7F8kCu",
        "colab_type": "code",
        "outputId": "f561e121-eb35-4063-efd1-6a2e6addf00a",
        "colab": {
          "base_uri": "https://localhost:8080/",
          "height": 102
        }
      },
      "source": [
        "carDict.popitem()\n",
        "\n",
        "for c_id, c_info in carDict.items():\n",
        "    print('\\nCar ID:', c_id)\n",
        "    \n",
        "    for key in c_info:\n",
        "        print(key + ':', c_info[key])"
      ],
      "execution_count": 0,
      "outputs": [
        {
          "output_type": "stream",
          "text": [
            "\n",
            "Car ID: 2\n",
            "country: JAPAN\n",
            "brand: Toyota\n",
            "model: CHR\n"
          ],
          "name": "stdout"
        }
      ]
    },
    {
      "cell_type": "markdown",
      "metadata": {
        "id": "N6yZ6yXo8zLj",
        "colab_type": "text"
      },
      "source": [
        "## คัดลอก Dictionary"
      ]
    },
    {
      "cell_type": "code",
      "metadata": {
        "id": "ZuQ7qSym82Wb",
        "colab_type": "code",
        "outputId": "3d7bc706-ebf1-409a-ee78-e38b931d1efc",
        "colab": {
          "base_uri": "https://localhost:8080/",
          "height": 102
        }
      },
      "source": [
        "copyDict = carDict.copy()\n",
        "\n",
        "for c_id, c_info in carDict.items():\n",
        "    print('\\nCar ID:', c_id)\n",
        "    \n",
        "    for key in c_info:\n",
        "        print(key + ':', c_info[key])"
      ],
      "execution_count": 0,
      "outputs": [
        {
          "output_type": "stream",
          "text": [
            "\n",
            "Car ID: 2\n",
            "country: JAPAN\n",
            "brand: Toyota\n",
            "model: CHR\n"
          ],
          "name": "stdout"
        }
      ]
    },
    {
      "cell_type": "markdown",
      "metadata": {
        "id": "tYnMk7e79C46",
        "colab_type": "text"
      },
      "source": [
        "## แก้ไข (Update) ข้อมูลใน Dictionary"
      ]
    },
    {
      "cell_type": "code",
      "metadata": {
        "id": "F2HP2rq69HMM",
        "colab_type": "code",
        "outputId": "0008ca52-a7d3-4021-e255-51fcc40735b9",
        "colab": {
          "base_uri": "https://localhost:8080/",
          "height": 102
        }
      },
      "source": [
        "carDict[2].update({'model': 'Altis'})\n",
        "\n",
        "for c_id, c_info in carDict.items():\n",
        "    print('\\nCar ID:', c_id)\n",
        "    \n",
        "    for key in c_info:\n",
        "        print(key + ':', c_info[key])"
      ],
      "execution_count": 0,
      "outputs": [
        {
          "output_type": "stream",
          "text": [
            "\n",
            "Car ID: 2\n",
            "country: JAPAN\n",
            "brand: Toyota\n",
            "model: Altis\n"
          ],
          "name": "stdout"
        }
      ]
    },
    {
      "cell_type": "markdown",
      "metadata": {
        "id": "yoS7K-qU9f6r",
        "colab_type": "text"
      },
      "source": [
        "## ลบข้อมูลทุกตัว (Clear) ใน Dictionary"
      ]
    },
    {
      "cell_type": "code",
      "metadata": {
        "id": "uaWXu3xa9n4H",
        "colab_type": "code",
        "colab": {}
      },
      "source": [
        "carDict.clear()\n",
        "\n",
        "for c_id, c_info in carDict.items():\n",
        "    print('\\nCar ID:', c_id)\n",
        "    \n",
        "    for key in c_info:\n",
        "        print(key + ':', c_info[key])"
      ],
      "execution_count": 0,
      "outputs": []
    },
    {
      "cell_type": "markdown",
      "metadata": {
        "id": "HB5fMM06jpC3",
        "colab_type": "text"
      },
      "source": [
        "# OpenWeather  \n",
        "\n",
        "* ตัวอย่างการใช้งาน Dictionary \n",
        "* เข้าไปยังสมัครสมาชิกที่เว็บไซต์ https://openweathermap.org และเข้าไปสร้าง API Keys จากนั้นจึงนำ API Key ที่ได้มาใช้งาน"
      ]
    },
    {
      "cell_type": "markdown",
      "metadata": {
        "id": "kvvm1IaX-7V3",
        "colab_type": "text"
      },
      "source": [
        "## ตัวอย่างโปรแกรมเรียกใช้ข้อมูลจาก OpenWeather ผ่าน API"
      ]
    },
    {
      "cell_type": "code",
      "metadata": {
        "id": "zoojc-mOgsWm",
        "colab_type": "code",
        "colab": {}
      },
      "source": [
        "import requests, json \n",
        "  \n",
        "# enter your api key here \n",
        "# api_key = \"Your_API_key\"\n",
        "api_key = \"d135a23a365d6c817715e62a10bffac0\""
      ],
      "execution_count": 0,
      "outputs": []
    },
    {
      "cell_type": "code",
      "metadata": {
        "id": "FgmnRAc0yNEA",
        "colab_type": "code",
        "outputId": "838496bd-3627-4d9e-a27c-b9dcb473792c",
        "colab": {
          "base_uri": "https://localhost:8080/",
          "height": 54
        }
      },
      "source": [
        "# take a city name from city_field entry box \n",
        "city = ['London', 'Amsterdam', 'Madrid', 'Rome'] \n",
        "city_name = city[1]\n",
        "\n",
        "# base_url variable to store url \n",
        "base_url = \"https://api.openweathermap.org/data/2.5/forecast?\"   \n",
        "  \n",
        "# complete_url variable to store complete url address \n",
        "complete_url = base_url + \"q=\" + city_name + \"&APPID=\" + api_key\n",
        "\n",
        "print(complete_url)"
      ],
      "execution_count": 0,
      "outputs": [
        {
          "output_type": "stream",
          "text": [
            "https://api.openweathermap.org/data/2.5/forecast?q=Amsterdam&APPID=d135a23a365d6c817715e62a10bffac0\n"
          ],
          "name": "stdout"
        }
      ]
    },
    {
      "cell_type": "code",
      "metadata": {
        "id": "LnEaY534nzxG",
        "colab_type": "code",
        "outputId": "5de93697-40de-415c-87d0-a07eda5d45e1",
        "colab": {
          "base_uri": "https://localhost:8080/",
          "height": 102
        }
      },
      "source": [
        "# get method of requests module \n",
        "# return response object \n",
        "response = requests.get(complete_url) \n",
        "  \n",
        "# json method of response object convert \n",
        "# json format data into python format data \n",
        "x = response.json() \n",
        "  \n",
        "# now x contains list of  nested dictionaries \n",
        "# we know dictionary contains key value pair \n",
        "# check the value of \"cod\" key is equal to \"404\" \n",
        "# or not if not that means city is found \n",
        "# otherwise city is not found \n",
        "if x['cod'] != '404': \n",
        "  print('Country:', x['city']['country'])\n",
        "  print('City:', x['city']['name'])\n",
        "  print('Weather description:', x['list'][0]['weather'][0]['description'])\n",
        "  \n",
        "  # convert kelvin to celsius \n",
        "  degree_kelvin = x['list'][0]['main']['temp']\n",
        "  degree_celsius = degree_kelvin - 273.15\n",
        "  print('Degree:', degree_celsius, 'c.')\n",
        "  \n",
        "  print('Humidity:', x['list'][0]['main']['humidity'])\n",
        "  \n",
        "  \n",
        "# if city is not found                    \n",
        "else: \n",
        "  # message dialog box appear which \n",
        "  # shows given Error meassgae \n",
        "  print('City Not Found, Please enter valid city name')\n",
        "    "
      ],
      "execution_count": 0,
      "outputs": [
        {
          "output_type": "stream",
          "text": [
            "Country: NL\n",
            "City: Amsterdam\n",
            "Weather description: light rain\n",
            "Degree: 17.879999999999995 c.\n",
            "Humidity: 82\n"
          ],
          "name": "stdout"
        }
      ]
    },
    {
      "cell_type": "markdown",
      "metadata": {
        "id": "Rkahakm2wMpS",
        "colab_type": "text"
      },
      "source": [
        "## แสดงข้อมูลจาก Dictionary "
      ]
    },
    {
      "cell_type": "code",
      "metadata": {
        "id": "TGFw0Dx2wq68",
        "colab_type": "code",
        "outputId": "6653dd92-2b05-4e37-e826-a5823cc6c8e6",
        "colab": {
          "base_uri": "https://localhost:8080/",
          "height": 34
        }
      },
      "source": [
        "type(x)"
      ],
      "execution_count": 0,
      "outputs": [
        {
          "output_type": "execute_result",
          "data": {
            "text/plain": [
              "dict"
            ]
          },
          "metadata": {
            "tags": []
          },
          "execution_count": 72
        }
      ]
    },
    {
      "cell_type": "code",
      "metadata": {
        "id": "ggecKNirqAWR",
        "colab_type": "code",
        "outputId": "e252184e-508e-4689-9917-543d9f2b7e8e",
        "colab": {
          "base_uri": "https://localhost:8080/",
          "height": 1000
        }
      },
      "source": [
        "x"
      ],
      "execution_count": 0,
      "outputs": [
        {
          "output_type": "execute_result",
          "data": {
            "text/plain": [
              "{'city': {'coord': {'lat': 53.2191, 'lon': 6.568},\n",
              "  'country': 'NL',\n",
              "  'id': 2755251,\n",
              "  'name': 'Groningen',\n",
              "  'population': 181194,\n",
              "  'sunrise': 1565755907,\n",
              "  'sunset': 1565809524,\n",
              "  'timezone': 7200},\n",
              " 'cnt': 40,\n",
              " 'cod': '200',\n",
              " 'list': [{'clouds': {'all': 96},\n",
              "   'dt': 1565805600,\n",
              "   'dt_txt': '2019-08-14 18:00:00',\n",
              "   'main': {'grnd_level': 1012.88,\n",
              "    'humidity': 67,\n",
              "    'pressure': 1012.87,\n",
              "    'sea_level': 1012.87,\n",
              "    'temp': 291.77,\n",
              "    'temp_kf': 0.17,\n",
              "    'temp_max': 291.77,\n",
              "    'temp_min': 291.605},\n",
              "   'rain': {'3h': 0.187},\n",
              "   'sys': {'pod': 'd'},\n",
              "   'weather': [{'description': 'light rain',\n",
              "     'icon': '10d',\n",
              "     'id': 500,\n",
              "     'main': 'Rain'}],\n",
              "   'wind': {'deg': 215.966, 'speed': 5.29}},\n",
              "  {'clouds': {'all': 100},\n",
              "   'dt': 1565816400,\n",
              "   'dt_txt': '2019-08-14 21:00:00',\n",
              "   'main': {'grnd_level': 1011.39,\n",
              "    'humidity': 82,\n",
              "    'pressure': 1011.26,\n",
              "    'sea_level': 1011.26,\n",
              "    'temp': 289.73,\n",
              "    'temp_kf': 0.13,\n",
              "    'temp_max': 289.73,\n",
              "    'temp_min': 289.605},\n",
              "   'rain': {'3h': 0.938},\n",
              "   'sys': {'pod': 'n'},\n",
              "   'weather': [{'description': 'light rain',\n",
              "     'icon': '10n',\n",
              "     'id': 500,\n",
              "     'main': 'Rain'}],\n",
              "   'wind': {'deg': 179.714, 'speed': 6.61}},\n",
              "  {'clouds': {'all': 100},\n",
              "   'dt': 1565827200,\n",
              "   'dt_txt': '2019-08-15 00:00:00',\n",
              "   'main': {'grnd_level': 1009.31,\n",
              "    'humidity': 91,\n",
              "    'pressure': 1009.12,\n",
              "    'sea_level': 1009.12,\n",
              "    'temp': 288.79,\n",
              "    'temp_kf': 0.08,\n",
              "    'temp_max': 288.79,\n",
              "    'temp_min': 288.705},\n",
              "   'rain': {'3h': 2.25},\n",
              "   'sys': {'pod': 'n'},\n",
              "   'weather': [{'description': 'light rain',\n",
              "     'icon': '10n',\n",
              "     'id': 500,\n",
              "     'main': 'Rain'}],\n",
              "   'wind': {'deg': 182.506, 'speed': 9.68}},\n",
              "  {'clouds': {'all': 100},\n",
              "   'dt': 1565838000,\n",
              "   'dt_txt': '2019-08-15 03:00:00',\n",
              "   'main': {'grnd_level': 1006.21,\n",
              "    'humidity': 92,\n",
              "    'pressure': 1005.97,\n",
              "    'sea_level': 1005.97,\n",
              "    'temp': 289.05,\n",
              "    'temp_kf': 0.04,\n",
              "    'temp_max': 289.05,\n",
              "    'temp_min': 289.007},\n",
              "   'rain': {'3h': 1.75},\n",
              "   'sys': {'pod': 'n'},\n",
              "   'weather': [{'description': 'light rain',\n",
              "     'icon': '10n',\n",
              "     'id': 500,\n",
              "     'main': 'Rain'}],\n",
              "   'wind': {'deg': 185.616, 'speed': 10.76}},\n",
              "  {'clouds': {'all': 100},\n",
              "   'dt': 1565848800,\n",
              "   'dt_txt': '2019-08-15 06:00:00',\n",
              "   'main': {'grnd_level': 1005.31,\n",
              "    'humidity': 90,\n",
              "    'pressure': 1005.02,\n",
              "    'sea_level': 1005.02,\n",
              "    'temp': 289.549,\n",
              "    'temp_kf': 0,\n",
              "    'temp_max': 289.549,\n",
              "    'temp_min': 289.549},\n",
              "   'rain': {'3h': 0.125},\n",
              "   'sys': {'pod': 'd'},\n",
              "   'weather': [{'description': 'light rain',\n",
              "     'icon': '10d',\n",
              "     'id': 500,\n",
              "     'main': 'Rain'}],\n",
              "   'wind': {'deg': 198.81, 'speed': 9.47}},\n",
              "  {'clouds': {'all': 100},\n",
              "   'dt': 1565859600,\n",
              "   'dt_txt': '2019-08-15 09:00:00',\n",
              "   'main': {'grnd_level': 1004.5,\n",
              "    'humidity': 85,\n",
              "    'pressure': 1005.13,\n",
              "    'sea_level': 1005.13,\n",
              "    'temp': 291.728,\n",
              "    'temp_kf': 0,\n",
              "    'temp_max': 291.728,\n",
              "    'temp_min': 291.728},\n",
              "   'rain': {'3h': 1.062},\n",
              "   'sys': {'pod': 'd'},\n",
              "   'weather': [{'description': 'light rain',\n",
              "     'icon': '10d',\n",
              "     'id': 500,\n",
              "     'main': 'Rain'}],\n",
              "   'wind': {'deg': 231.6, 'speed': 9.34}},\n",
              "  {'clouds': {'all': 94},\n",
              "   'dt': 1565870400,\n",
              "   'dt_txt': '2019-08-15 12:00:00',\n",
              "   'main': {'grnd_level': 1006.24,\n",
              "    'humidity': 79,\n",
              "    'pressure': 1006.23,\n",
              "    'sea_level': 1006.23,\n",
              "    'temp': 291.1,\n",
              "    'temp_kf': 0,\n",
              "    'temp_max': 291.1,\n",
              "    'temp_min': 291.1},\n",
              "   'rain': {'3h': 1.25},\n",
              "   'sys': {'pod': 'd'},\n",
              "   'weather': [{'description': 'light rain',\n",
              "     'icon': '10d',\n",
              "     'id': 500,\n",
              "     'main': 'Rain'}],\n",
              "   'wind': {'deg': 271.627, 'speed': 10.88}},\n",
              "  {'clouds': {'all': 90},\n",
              "   'dt': 1565881200,\n",
              "   'dt_txt': '2019-08-15 15:00:00',\n",
              "   'main': {'grnd_level': 1007.75,\n",
              "    'humidity': 75,\n",
              "    'pressure': 1007.94,\n",
              "    'sea_level': 1007.94,\n",
              "    'temp': 291.113,\n",
              "    'temp_kf': 0,\n",
              "    'temp_max': 291.113,\n",
              "    'temp_min': 291.113},\n",
              "   'rain': {'3h': 0.375},\n",
              "   'sys': {'pod': 'd'},\n",
              "   'weather': [{'description': 'light rain',\n",
              "     'icon': '10d',\n",
              "     'id': 500,\n",
              "     'main': 'Rain'}],\n",
              "   'wind': {'deg': 262.129, 'speed': 11.36}},\n",
              "  {'clouds': {'all': 67},\n",
              "   'dt': 1565892000,\n",
              "   'dt_txt': '2019-08-15 18:00:00',\n",
              "   'main': {'grnd_level': 1008.72,\n",
              "    'humidity': 72,\n",
              "    'pressure': 1009.19,\n",
              "    'sea_level': 1009.19,\n",
              "    'temp': 291,\n",
              "    'temp_kf': 0,\n",
              "    'temp_max': 291,\n",
              "    'temp_min': 291},\n",
              "   'rain': {'3h': 0.125},\n",
              "   'sys': {'pod': 'd'},\n",
              "   'weather': [{'description': 'light rain',\n",
              "     'icon': '10d',\n",
              "     'id': 500,\n",
              "     'main': 'Rain'}],\n",
              "   'wind': {'deg': 263.13, 'speed': 10.57}},\n",
              "  {'clouds': {'all': 52},\n",
              "   'dt': 1565902800,\n",
              "   'dt_txt': '2019-08-15 21:00:00',\n",
              "   'main': {'grnd_level': 1010.05,\n",
              "    'humidity': 76,\n",
              "    'pressure': 1010.68,\n",
              "    'sea_level': 1010.68,\n",
              "    'temp': 291.3,\n",
              "    'temp_kf': 0,\n",
              "    'temp_max': 291.3,\n",
              "    'temp_min': 291.3},\n",
              "   'rain': {'3h': 0.375},\n",
              "   'sys': {'pod': 'n'},\n",
              "   'weather': [{'description': 'light rain',\n",
              "     'icon': '10n',\n",
              "     'id': 500,\n",
              "     'main': 'Rain'}],\n",
              "   'wind': {'deg': 275.831, 'speed': 9.76}},\n",
              "  {'clouds': {'all': 49},\n",
              "   'dt': 1565913600,\n",
              "   'dt_txt': '2019-08-16 00:00:00',\n",
              "   'main': {'grnd_level': 1011.76,\n",
              "    'humidity': 81,\n",
              "    'pressure': 1011.94,\n",
              "    'sea_level': 1011.94,\n",
              "    'temp': 290.4,\n",
              "    'temp_kf': 0,\n",
              "    'temp_max': 290.4,\n",
              "    'temp_min': 290.4},\n",
              "   'rain': {'3h': 0.687},\n",
              "   'sys': {'pod': 'n'},\n",
              "   'weather': [{'description': 'light rain',\n",
              "     'icon': '10n',\n",
              "     'id': 500,\n",
              "     'main': 'Rain'}],\n",
              "   'wind': {'deg': 295.16, 'speed': 10.36}},\n",
              "  {'clouds': {'all': 99},\n",
              "   'dt': 1565924400,\n",
              "   'dt_txt': '2019-08-16 03:00:00',\n",
              "   'main': {'grnd_level': 1012.31,\n",
              "    'humidity': 77,\n",
              "    'pressure': 1012.26,\n",
              "    'sea_level': 1012.26,\n",
              "    'temp': 290.014,\n",
              "    'temp_kf': 0,\n",
              "    'temp_max': 290.014,\n",
              "    'temp_min': 290.014},\n",
              "   'rain': {'3h': 0.062},\n",
              "   'sys': {'pod': 'n'},\n",
              "   'weather': [{'description': 'light rain',\n",
              "     'icon': '10n',\n",
              "     'id': 500,\n",
              "     'main': 'Rain'}],\n",
              "   'wind': {'deg': 286.898, 'speed': 7.39}},\n",
              "  {'clouds': {'all': 97},\n",
              "   'dt': 1565935200,\n",
              "   'dt_txt': '2019-08-16 06:00:00',\n",
              "   'main': {'grnd_level': 1012.91,\n",
              "    'humidity': 80,\n",
              "    'pressure': 1013.21,\n",
              "    'sea_level': 1013.21,\n",
              "    'temp': 290.214,\n",
              "    'temp_kf': 0,\n",
              "    'temp_max': 290.214,\n",
              "    'temp_min': 290.214},\n",
              "   'rain': {'3h': 0.376},\n",
              "   'sys': {'pod': 'd'},\n",
              "   'weather': [{'description': 'light rain',\n",
              "     'icon': '10d',\n",
              "     'id': 500,\n",
              "     'main': 'Rain'}],\n",
              "   'wind': {'deg': 249.106, 'speed': 6.03}},\n",
              "  {'clouds': {'all': 63},\n",
              "   'dt': 1565946000,\n",
              "   'dt_txt': '2019-08-16 09:00:00',\n",
              "   'main': {'grnd_level': 1013.03,\n",
              "    'humidity': 72,\n",
              "    'pressure': 1013.36,\n",
              "    'sea_level': 1013.36,\n",
              "    'temp': 290.4,\n",
              "    'temp_kf': 0,\n",
              "    'temp_max': 290.4,\n",
              "    'temp_min': 290.4},\n",
              "   'rain': {'3h': 0.312},\n",
              "   'sys': {'pod': 'd'},\n",
              "   'weather': [{'description': 'light rain',\n",
              "     'icon': '10d',\n",
              "     'id': 500,\n",
              "     'main': 'Rain'}],\n",
              "   'wind': {'deg': 225.769, 'speed': 6.16}},\n",
              "  {'clouds': {'all': 81},\n",
              "   'dt': 1565956800,\n",
              "   'dt_txt': '2019-08-16 12:00:00',\n",
              "   'main': {'grnd_level': 1012.46,\n",
              "    'humidity': 66,\n",
              "    'pressure': 1012.5,\n",
              "    'sea_level': 1012.5,\n",
              "    'temp': 291.6,\n",
              "    'temp_kf': 0,\n",
              "    'temp_max': 291.6,\n",
              "    'temp_min': 291.6},\n",
              "   'rain': {},\n",
              "   'sys': {'pod': 'd'},\n",
              "   'weather': [{'description': 'broken clouds',\n",
              "     'icon': '04d',\n",
              "     'id': 803,\n",
              "     'main': 'Clouds'}],\n",
              "   'wind': {'deg': 239.221, 'speed': 6.31}},\n",
              "  {'clouds': {'all': 100},\n",
              "   'dt': 1565967600,\n",
              "   'dt_txt': '2019-08-16 15:00:00',\n",
              "   'main': {'grnd_level': 1010.82,\n",
              "    'humidity': 72,\n",
              "    'pressure': 1010.95,\n",
              "    'sea_level': 1010.95,\n",
              "    'temp': 292.671,\n",
              "    'temp_kf': 0,\n",
              "    'temp_max': 292.671,\n",
              "    'temp_min': 292.671},\n",
              "   'rain': {'3h': 0.062},\n",
              "   'sys': {'pod': 'd'},\n",
              "   'weather': [{'description': 'light rain',\n",
              "     'icon': '10d',\n",
              "     'id': 500,\n",
              "     'main': 'Rain'}],\n",
              "   'wind': {'deg': 215.318, 'speed': 5.5}},\n",
              "  {'clouds': {'all': 100},\n",
              "   'dt': 1565978400,\n",
              "   'dt_txt': '2019-08-16 18:00:00',\n",
              "   'main': {'grnd_level': 1009.16,\n",
              "    'humidity': 75,\n",
              "    'pressure': 1008.99,\n",
              "    'sea_level': 1008.99,\n",
              "    'temp': 292,\n",
              "    'temp_kf': 0,\n",
              "    'temp_max': 292,\n",
              "    'temp_min': 292},\n",
              "   'rain': {'3h': 0.376},\n",
              "   'sys': {'pod': 'd'},\n",
              "   'weather': [{'description': 'light rain',\n",
              "     'icon': '10d',\n",
              "     'id': 500,\n",
              "     'main': 'Rain'}],\n",
              "   'wind': {'deg': 208.489, 'speed': 4.74}},\n",
              "  {'clouds': {'all': 100},\n",
              "   'dt': 1565989200,\n",
              "   'dt_txt': '2019-08-16 21:00:00',\n",
              "   'main': {'grnd_level': 1007.89,\n",
              "    'humidity': 81,\n",
              "    'pressure': 1007.78,\n",
              "    'sea_level': 1007.78,\n",
              "    'temp': 291.071,\n",
              "    'temp_kf': 0,\n",
              "    'temp_max': 291.071,\n",
              "    'temp_min': 291.071},\n",
              "   'rain': {'3h': 0.812},\n",
              "   'sys': {'pod': 'n'},\n",
              "   'weather': [{'description': 'light rain',\n",
              "     'icon': '10n',\n",
              "     'id': 500,\n",
              "     'main': 'Rain'}],\n",
              "   'wind': {'deg': 185.478, 'speed': 6.52}},\n",
              "  {'clouds': {'all': 100},\n",
              "   'dt': 1566000000,\n",
              "   'dt_txt': '2019-08-17 00:00:00',\n",
              "   'main': {'grnd_level': 1005.34,\n",
              "    'humidity': 89,\n",
              "    'pressure': 1005.3,\n",
              "    'sea_level': 1005.3,\n",
              "    'temp': 290.4,\n",
              "    'temp_kf': 0,\n",
              "    'temp_max': 290.4,\n",
              "    'temp_min': 290.4},\n",
              "   'rain': {'3h': 2.438},\n",
              "   'sys': {'pod': 'n'},\n",
              "   'weather': [{'description': 'light rain',\n",
              "     'icon': '10n',\n",
              "     'id': 500,\n",
              "     'main': 'Rain'}],\n",
              "   'wind': {'deg': 191.831, 'speed': 11.33}},\n",
              "  {'clouds': {'all': 100},\n",
              "   'dt': 1566010800,\n",
              "   'dt_txt': '2019-08-17 03:00:00',\n",
              "   'main': {'grnd_level': 1003.98,\n",
              "    'humidity': 91,\n",
              "    'pressure': 1004.05,\n",
              "    'sea_level': 1004.05,\n",
              "    'temp': 290.3,\n",
              "    'temp_kf': 0,\n",
              "    'temp_max': 290.3,\n",
              "    'temp_min': 290.3},\n",
              "   'rain': {'3h': 2.938},\n",
              "   'sys': {'pod': 'n'},\n",
              "   'weather': [{'description': 'light rain',\n",
              "     'icon': '10n',\n",
              "     'id': 500,\n",
              "     'main': 'Rain'}],\n",
              "   'wind': {'deg': 203.423, 'speed': 11.68}},\n",
              "  {'clouds': {'all': 98},\n",
              "   'dt': 1566021600,\n",
              "   'dt_txt': '2019-08-17 06:00:00',\n",
              "   'main': {'grnd_level': 1003.47,\n",
              "    'humidity': 90,\n",
              "    'pressure': 1003.5,\n",
              "    'sea_level': 1003.5,\n",
              "    'temp': 290.702,\n",
              "    'temp_kf': 0,\n",
              "    'temp_max': 290.702,\n",
              "    'temp_min': 290.702},\n",
              "   'rain': {'3h': 0.374},\n",
              "   'sys': {'pod': 'd'},\n",
              "   'weather': [{'description': 'light rain',\n",
              "     'icon': '10d',\n",
              "     'id': 500,\n",
              "     'main': 'Rain'}],\n",
              "   'wind': {'deg': 207.185, 'speed': 10.41}},\n",
              "  {'clouds': {'all': 100},\n",
              "   'dt': 1566032400,\n",
              "   'dt_txt': '2019-08-17 09:00:00',\n",
              "   'main': {'grnd_level': 1004.49,\n",
              "    'humidity': 89,\n",
              "    'pressure': 1004.41,\n",
              "    'sea_level': 1004.41,\n",
              "    'temp': 291.2,\n",
              "    'temp_kf': 0,\n",
              "    'temp_max': 291.2,\n",
              "    'temp_min': 291.2},\n",
              "   'rain': {'3h': 0.75},\n",
              "   'sys': {'pod': 'd'},\n",
              "   'weather': [{'description': 'light rain',\n",
              "     'icon': '10d',\n",
              "     'id': 500,\n",
              "     'main': 'Rain'}],\n",
              "   'wind': {'deg': 211.678, 'speed': 10.47}},\n",
              "  {'clouds': {'all': 73},\n",
              "   'dt': 1566043200,\n",
              "   'dt_txt': '2019-08-17 12:00:00',\n",
              "   'main': {'grnd_level': 1004.53,\n",
              "    'humidity': 81,\n",
              "    'pressure': 1004.74,\n",
              "    'sea_level': 1004.74,\n",
              "    'temp': 292.759,\n",
              "    'temp_kf': 0,\n",
              "    'temp_max': 292.759,\n",
              "    'temp_min': 292.759},\n",
              "   'rain': {'3h': 0.938},\n",
              "   'sys': {'pod': 'd'},\n",
              "   'weather': [{'description': 'light rain',\n",
              "     'icon': '10d',\n",
              "     'id': 500,\n",
              "     'main': 'Rain'}],\n",
              "   'wind': {'deg': 219.883, 'speed': 9.09}},\n",
              "  {'clouds': {'all': 22},\n",
              "   'dt': 1566054000,\n",
              "   'dt_txt': '2019-08-17 15:00:00',\n",
              "   'main': {'grnd_level': 1004.96,\n",
              "    'humidity': 73,\n",
              "    'pressure': 1004.66,\n",
              "    'sea_level': 1004.66,\n",
              "    'temp': 292.32,\n",
              "    'temp_kf': 0,\n",
              "    'temp_max': 292.32,\n",
              "    'temp_min': 292.32},\n",
              "   'rain': {'3h': 0.5},\n",
              "   'sys': {'pod': 'd'},\n",
              "   'weather': [{'description': 'light rain',\n",
              "     'icon': '10d',\n",
              "     'id': 500,\n",
              "     'main': 'Rain'}],\n",
              "   'wind': {'deg': 251.97, 'speed': 10.78}},\n",
              "  {'clouds': {'all': 61},\n",
              "   'dt': 1566064800,\n",
              "   'dt_txt': '2019-08-17 18:00:00',\n",
              "   'main': {'grnd_level': 1004.68,\n",
              "    'humidity': 74,\n",
              "    'pressure': 1004.43,\n",
              "    'sea_level': 1004.43,\n",
              "    'temp': 291.976,\n",
              "    'temp_kf': 0,\n",
              "    'temp_max': 291.976,\n",
              "    'temp_min': 291.976},\n",
              "   'rain': {},\n",
              "   'sys': {'pod': 'd'},\n",
              "   'weather': [{'description': 'broken clouds',\n",
              "     'icon': '04d',\n",
              "     'id': 803,\n",
              "     'main': 'Clouds'}],\n",
              "   'wind': {'deg': 241.633, 'speed': 7}},\n",
              "  {'clouds': {'all': 100},\n",
              "   'dt': 1566075600,\n",
              "   'dt_txt': '2019-08-17 21:00:00',\n",
              "   'main': {'grnd_level': 1004.34,\n",
              "    'humidity': 79,\n",
              "    'pressure': 1003.93,\n",
              "    'sea_level': 1003.93,\n",
              "    'temp': 291.361,\n",
              "    'temp_kf': 0,\n",
              "    'temp_max': 291.361,\n",
              "    'temp_min': 291.361},\n",
              "   'sys': {'pod': 'n'},\n",
              "   'weather': [{'description': 'overcast clouds',\n",
              "     'icon': '04n',\n",
              "     'id': 804,\n",
              "     'main': 'Clouds'}],\n",
              "   'wind': {'deg': 196.436, 'speed': 5.33}},\n",
              "  {'clouds': {'all': 100},\n",
              "   'dt': 1566086400,\n",
              "   'dt_txt': '2019-08-18 00:00:00',\n",
              "   'main': {'grnd_level': 1002.73,\n",
              "    'humidity': 93,\n",
              "    'pressure': 1002.32,\n",
              "    'sea_level': 1002.32,\n",
              "    'temp': 290.034,\n",
              "    'temp_kf': 0,\n",
              "    'temp_max': 290.034,\n",
              "    'temp_min': 290.034},\n",
              "   'rain': {'3h': 1.938},\n",
              "   'sys': {'pod': 'n'},\n",
              "   'weather': [{'description': 'light rain',\n",
              "     'icon': '10n',\n",
              "     'id': 500,\n",
              "     'main': 'Rain'}],\n",
              "   'wind': {'deg': 160.668, 'speed': 4.67}},\n",
              "  {'clouds': {'all': 100},\n",
              "   'dt': 1566097200,\n",
              "   'dt_txt': '2019-08-18 03:00:00',\n",
              "   'main': {'grnd_level': 1000.99,\n",
              "    'humidity': 90,\n",
              "    'pressure': 1000.86,\n",
              "    'sea_level': 1000.86,\n",
              "    'temp': 290.037,\n",
              "    'temp_kf': 0,\n",
              "    'temp_max': 290.037,\n",
              "    'temp_min': 290.037},\n",
              "   'rain': {'3h': 3.625},\n",
              "   'sys': {'pod': 'n'},\n",
              "   'weather': [{'description': 'moderate rain',\n",
              "     'icon': '10n',\n",
              "     'id': 501,\n",
              "     'main': 'Rain'}],\n",
              "   'wind': {'deg': 187.646, 'speed': 5.55}},\n",
              "  {'clouds': {'all': 100},\n",
              "   'dt': 1566108000,\n",
              "   'dt_txt': '2019-08-18 06:00:00',\n",
              "   'main': {'grnd_level': 1001.53,\n",
              "    'humidity': 82,\n",
              "    'pressure': 1001.31,\n",
              "    'sea_level': 1001.31,\n",
              "    'temp': 290.134,\n",
              "    'temp_kf': 0,\n",
              "    'temp_max': 290.134,\n",
              "    'temp_min': 290.134},\n",
              "   'rain': {'3h': 3.187},\n",
              "   'sys': {'pod': 'd'},\n",
              "   'weather': [{'description': 'moderate rain',\n",
              "     'icon': '10d',\n",
              "     'id': 501,\n",
              "     'main': 'Rain'}],\n",
              "   'wind': {'deg': 244.876, 'speed': 6.72}},\n",
              "  {'clouds': {'all': 82},\n",
              "   'dt': 1566118800,\n",
              "   'dt_txt': '2019-08-18 09:00:00',\n",
              "   'main': {'grnd_level': 1004,\n",
              "    'humidity': 69,\n",
              "    'pressure': 1004.16,\n",
              "    'sea_level': 1004.16,\n",
              "    'temp': 290.681,\n",
              "    'temp_kf': 0,\n",
              "    'temp_max': 290.681,\n",
              "    'temp_min': 290.681},\n",
              "   'rain': {'3h': 0.562},\n",
              "   'sys': {'pod': 'd'},\n",
              "   'weather': [{'description': 'light rain',\n",
              "     'icon': '10d',\n",
              "     'id': 500,\n",
              "     'main': 'Rain'}],\n",
              "   'wind': {'deg': 263.968, 'speed': 10.15}},\n",
              "  {'clouds': {'all': 41},\n",
              "   'dt': 1566129600,\n",
              "   'dt_txt': '2019-08-18 12:00:00',\n",
              "   'main': {'grnd_level': 1006.42,\n",
              "    'humidity': 70,\n",
              "    'pressure': 1006.5,\n",
              "    'sea_level': 1006.5,\n",
              "    'temp': 290.297,\n",
              "    'temp_kf': 0,\n",
              "    'temp_max': 290.297,\n",
              "    'temp_min': 290.297},\n",
              "   'rain': {'3h': 0.063},\n",
              "   'sys': {'pod': 'd'},\n",
              "   'weather': [{'description': 'light rain',\n",
              "     'icon': '10d',\n",
              "     'id': 500,\n",
              "     'main': 'Rain'}],\n",
              "   'wind': {'deg': 256.446, 'speed': 11.73}},\n",
              "  {'clouds': {'all': 0},\n",
              "   'dt': 1566140400,\n",
              "   'dt_txt': '2019-08-18 15:00:00',\n",
              "   'main': {'grnd_level': 1008.76,\n",
              "    'humidity': 68,\n",
              "    'pressure': 1008.76,\n",
              "    'sea_level': 1008.76,\n",
              "    'temp': 290.484,\n",
              "    'temp_kf': 0,\n",
              "    'temp_max': 290.484,\n",
              "    'temp_min': 290.484},\n",
              "   'sys': {'pod': 'd'},\n",
              "   'weather': [{'description': 'clear sky',\n",
              "     'icon': '01d',\n",
              "     'id': 800,\n",
              "     'main': 'Clear'}],\n",
              "   'wind': {'deg': 254.261, 'speed': 10.44}},\n",
              "  {'clouds': {'all': 0},\n",
              "   'dt': 1566151200,\n",
              "   'dt_txt': '2019-08-18 18:00:00',\n",
              "   'main': {'grnd_level': 1009.6,\n",
              "    'humidity': 70,\n",
              "    'pressure': 1009.8,\n",
              "    'sea_level': 1009.8,\n",
              "    'temp': 290.81,\n",
              "    'temp_kf': 0,\n",
              "    'temp_max': 290.81,\n",
              "    'temp_min': 290.81},\n",
              "   'sys': {'pod': 'd'},\n",
              "   'weather': [{'description': 'clear sky',\n",
              "     'icon': '01d',\n",
              "     'id': 800,\n",
              "     'main': 'Clear'}],\n",
              "   'wind': {'deg': 227.306, 'speed': 9.31}},\n",
              "  {'clouds': {'all': 7},\n",
              "   'dt': 1566162000,\n",
              "   'dt_txt': '2019-08-18 21:00:00',\n",
              "   'main': {'grnd_level': 1010.44,\n",
              "    'humidity': 72,\n",
              "    'pressure': 1010.42,\n",
              "    'sea_level': 1010.42,\n",
              "    'temp': 290.419,\n",
              "    'temp_kf': 0,\n",
              "    'temp_max': 290.419,\n",
              "    'temp_min': 290.419},\n",
              "   'sys': {'pod': 'n'},\n",
              "   'weather': [{'description': 'clear sky',\n",
              "     'icon': '01n',\n",
              "     'id': 800,\n",
              "     'main': 'Clear'}],\n",
              "   'wind': {'deg': 221.963, 'speed': 10.41}},\n",
              "  {'clouds': {'all': 4},\n",
              "   'dt': 1566172800,\n",
              "   'dt_txt': '2019-08-19 00:00:00',\n",
              "   'main': {'grnd_level': 1010.83,\n",
              "    'humidity': 76,\n",
              "    'pressure': 1010.91,\n",
              "    'sea_level': 1010.91,\n",
              "    'temp': 289.881,\n",
              "    'temp_kf': 0,\n",
              "    'temp_max': 289.881,\n",
              "    'temp_min': 289.881},\n",
              "   'sys': {'pod': 'n'},\n",
              "   'weather': [{'description': 'clear sky',\n",
              "     'icon': '01n',\n",
              "     'id': 800,\n",
              "     'main': 'Clear'}],\n",
              "   'wind': {'deg': 217.585, 'speed': 10.58}},\n",
              "  {'clouds': {'all': 0},\n",
              "   'dt': 1566183600,\n",
              "   'dt_txt': '2019-08-19 03:00:00',\n",
              "   'main': {'grnd_level': 1011.08,\n",
              "    'humidity': 78,\n",
              "    'pressure': 1011.27,\n",
              "    'sea_level': 1011.27,\n",
              "    'temp': 289.231,\n",
              "    'temp_kf': 0,\n",
              "    'temp_max': 289.231,\n",
              "    'temp_min': 289.231},\n",
              "   'sys': {'pod': 'n'},\n",
              "   'weather': [{'description': 'clear sky',\n",
              "     'icon': '01n',\n",
              "     'id': 800,\n",
              "     'main': 'Clear'}],\n",
              "   'wind': {'deg': 216.467, 'speed': 10.2}},\n",
              "  {'clouds': {'all': 1},\n",
              "   'dt': 1566194400,\n",
              "   'dt_txt': '2019-08-19 06:00:00',\n",
              "   'main': {'grnd_level': 1012.6,\n",
              "    'humidity': 83,\n",
              "    'pressure': 1012.6,\n",
              "    'sea_level': 1012.6,\n",
              "    'temp': 288.293,\n",
              "    'temp_kf': 0,\n",
              "    'temp_max': 288.293,\n",
              "    'temp_min': 288.293},\n",
              "   'sys': {'pod': 'd'},\n",
              "   'weather': [{'description': 'clear sky',\n",
              "     'icon': '01d',\n",
              "     'id': 800,\n",
              "     'main': 'Clear'}],\n",
              "   'wind': {'deg': 205.809, 'speed': 9.49}},\n",
              "  {'clouds': {'all': 38},\n",
              "   'dt': 1566205200,\n",
              "   'dt_txt': '2019-08-19 09:00:00',\n",
              "   'main': {'grnd_level': 1014.08,\n",
              "    'humidity': 72,\n",
              "    'pressure': 1014.17,\n",
              "    'sea_level': 1014.17,\n",
              "    'temp': 290.222,\n",
              "    'temp_kf': 0,\n",
              "    'temp_max': 290.222,\n",
              "    'temp_min': 290.222},\n",
              "   'rain': {'3h': 0.938},\n",
              "   'sys': {'pod': 'd'},\n",
              "   'weather': [{'description': 'light rain',\n",
              "     'icon': '10d',\n",
              "     'id': 500,\n",
              "     'main': 'Rain'}],\n",
              "   'wind': {'deg': 229.56, 'speed': 9.96}},\n",
              "  {'clouds': {'all': 52},\n",
              "   'dt': 1566216000,\n",
              "   'dt_txt': '2019-08-19 12:00:00',\n",
              "   'main': {'grnd_level': 1014.6,\n",
              "    'humidity': 66,\n",
              "    'pressure': 1014.78,\n",
              "    'sea_level': 1014.78,\n",
              "    'temp': 291.319,\n",
              "    'temp_kf': 0,\n",
              "    'temp_max': 291.319,\n",
              "    'temp_min': 291.319},\n",
              "   'rain': {'3h': 0.25},\n",
              "   'sys': {'pod': 'd'},\n",
              "   'weather': [{'description': 'light rain',\n",
              "     'icon': '10d',\n",
              "     'id': 500,\n",
              "     'main': 'Rain'}],\n",
              "   'wind': {'deg': 234.06, 'speed': 9.21}},\n",
              "  {'clouds': {'all': 12},\n",
              "   'dt': 1566226800,\n",
              "   'dt_txt': '2019-08-19 15:00:00',\n",
              "   'main': {'grnd_level': 1015.28,\n",
              "    'humidity': 64,\n",
              "    'pressure': 1015.45,\n",
              "    'sea_level': 1015.45,\n",
              "    'temp': 291.4,\n",
              "    'temp_kf': 0,\n",
              "    'temp_max': 291.4,\n",
              "    'temp_min': 291.4},\n",
              "   'sys': {'pod': 'd'},\n",
              "   'weather': [{'description': 'few clouds',\n",
              "     'icon': '02d',\n",
              "     'id': 801,\n",
              "     'main': 'Clouds'}],\n",
              "   'wind': {'deg': 251.737, 'speed': 8.65}}],\n",
              " 'message': 0.0082}"
            ]
          },
          "metadata": {
            "tags": []
          },
          "execution_count": 30
        }
      ]
    },
    {
      "cell_type": "markdown",
      "metadata": {
        "id": "xEf_z4pSw3_h",
        "colab_type": "text"
      },
      "source": [
        "ตรวจสอบ code หาก code ที่ได้คือ **401** แสดงว่าค้นหาไม่พบ และหาก code คือ **200** แสดงว่าพบข้อมูล"
      ]
    },
    {
      "cell_type": "code",
      "metadata": {
        "id": "lFpFqDm3qE3s",
        "colab_type": "code",
        "outputId": "74e85f13-fd21-4e56-8d0d-e0375847a98f",
        "colab": {
          "base_uri": "https://localhost:8080/",
          "height": 34
        }
      },
      "source": [
        "x['cod']"
      ],
      "execution_count": 0,
      "outputs": [
        {
          "output_type": "execute_result",
          "data": {
            "text/plain": [
              "'200'"
            ]
          },
          "metadata": {
            "tags": []
          },
          "execution_count": 14
        }
      ]
    },
    {
      "cell_type": "code",
      "metadata": {
        "id": "BcSTRqHWxNCk",
        "colab_type": "code",
        "outputId": "054fa897-b60d-44fe-ebea-cc56b99d0fb2",
        "colab": {
          "base_uri": "https://localhost:8080/",
          "height": 153
        }
      },
      "source": [
        "x['city']"
      ],
      "execution_count": 0,
      "outputs": [
        {
          "output_type": "execute_result",
          "data": {
            "text/plain": [
              "{'coord': {'lat': 53.2191, 'lon': 6.568},\n",
              " 'country': 'NL',\n",
              " 'id': 2755251,\n",
              " 'name': 'Groningen',\n",
              " 'population': 181194,\n",
              " 'sunrise': 1565755907,\n",
              " 'sunset': 1565809524,\n",
              " 'timezone': 7200}"
            ]
          },
          "metadata": {
            "tags": []
          },
          "execution_count": 73
        }
      ]
    },
    {
      "cell_type": "code",
      "metadata": {
        "id": "ikar2YesxSzm",
        "colab_type": "code",
        "outputId": "4074c35d-1dff-4172-8eee-70609a40398d",
        "colab": {
          "base_uri": "https://localhost:8080/",
          "height": 51
        }
      },
      "source": [
        "print('Country:', x['city']['country'])\n",
        "print('Country:', x['city']['name'])"
      ],
      "execution_count": 0,
      "outputs": [
        {
          "output_type": "stream",
          "text": [
            "Country: NL\n",
            "Country: Groningen\n"
          ],
          "name": "stdout"
        }
      ]
    },
    {
      "cell_type": "code",
      "metadata": {
        "id": "WEv7YMv3q3fu",
        "colab_type": "code",
        "outputId": "110011d9-4908-41e0-8107-33a2f341106a",
        "colab": {
          "base_uri": "https://localhost:8080/",
          "height": 153
        }
      },
      "source": [
        "x['list'][0]['main']"
      ],
      "execution_count": 0,
      "outputs": [
        {
          "output_type": "execute_result",
          "data": {
            "text/plain": [
              "{'grnd_level': 1012.88,\n",
              " 'humidity': 67,\n",
              " 'pressure': 1012.87,\n",
              " 'sea_level': 1012.87,\n",
              " 'temp': 291.77,\n",
              " 'temp_kf': 0.17,\n",
              " 'temp_max': 291.77,\n",
              " 'temp_min': 291.605}"
            ]
          },
          "metadata": {
            "tags": []
          },
          "execution_count": 43
        }
      ]
    },
    {
      "cell_type": "code",
      "metadata": {
        "id": "8JG3KmfAuyRh",
        "colab_type": "code",
        "outputId": "c51a79b6-4ad5-49f8-815f-ccd65c0184ba",
        "colab": {
          "base_uri": "https://localhost:8080/",
          "height": 34
        }
      },
      "source": [
        "x['list'][0]['main']['humidity']"
      ],
      "execution_count": 0,
      "outputs": [
        {
          "output_type": "execute_result",
          "data": {
            "text/plain": [
              "67"
            ]
          },
          "metadata": {
            "tags": []
          },
          "execution_count": 50
        }
      ]
    },
    {
      "cell_type": "markdown",
      "metadata": {
        "id": "sw58cJw0xYKD",
        "colab_type": "text"
      },
      "source": [
        "องศาที่ได้มาจาก OpenWeather คือ Kelvin ดังนั้นจึงต้องแปลงให้อยู่ในรูปแบบของ Celsius สมการในการแปลงค่าคือ\n",
        "\n",
        "```\n",
        "degree_celsius = degree_kelvin - 273.15\n",
        "```"
      ]
    },
    {
      "cell_type": "code",
      "metadata": {
        "id": "RFpMwI3ZsPAN",
        "colab_type": "code",
        "outputId": "0f8546e1-f979-43e3-c810-b7991d3008cd",
        "colab": {
          "base_uri": "https://localhost:8080/",
          "height": 34
        }
      },
      "source": [
        "# convert kelvin to celsius \n",
        "degree_kelvin = x['list'][0]['main']['temp']\n",
        "degree_celsius = degree_kelvin - 273.15\n",
        "\n",
        "print(degree_celsius)"
      ],
      "execution_count": 0,
      "outputs": [
        {
          "output_type": "stream",
          "text": [
            "18.620000000000005\n"
          ],
          "name": "stdout"
        }
      ]
    },
    {
      "cell_type": "code",
      "metadata": {
        "id": "kjPWmNSru5nH",
        "colab_type": "code",
        "outputId": "904de5dd-5ea2-4b52-e227-b36e0695e963",
        "colab": {
          "base_uri": "https://localhost:8080/",
          "height": 34
        }
      },
      "source": [
        "x['list'][0]['weather'][0]['description']"
      ],
      "execution_count": 0,
      "outputs": [
        {
          "output_type": "execute_result",
          "data": {
            "text/plain": [
              "'light rain'"
            ]
          },
          "metadata": {
            "tags": []
          },
          "execution_count": 65
        }
      ]
    }
  ]
}