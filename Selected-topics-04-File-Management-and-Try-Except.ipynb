{
  "nbformat": 4,
  "nbformat_minor": 0,
  "metadata": {
    "colab": {
      "name": "Selected-topics-04-File-Management-and-Try-Except.ipynb",
      "version": "0.3.2",
      "provenance": [],
      "collapsed_sections": [],
      "toc_visible": true
    },
    "kernelspec": {
      "name": "python3",
      "display_name": "Python 3"
    }
  },
  "cells": [
    {
      "cell_type": "markdown",
      "metadata": {
        "id": "_96bVJX0sHZB",
        "colab_type": "text"
      },
      "source": [
        "# การจัดการไฟล์ - File Management"
      ]
    },
    {
      "cell_type": "markdown",
      "metadata": {
        "id": "6s_1zRLMxZLj",
        "colab_type": "text"
      },
      "source": [
        "## Write file - การเขียนข้อมูลลงไปในไฟล์"
      ]
    },
    {
      "cell_type": "markdown",
      "metadata": {
        "id": "F-qXt63iwMme",
        "colab_type": "text"
      },
      "source": [
        "### Write file ด้วยโหมด w\n",
        "\n",
        "'w'– **w** คือการเปิดไฟล์เพื่อเขียนข้อมูลลงไปในไฟล์ โดยที่ข้อมูลที่เขียนลงไปนั้นจะทับข้อมูลเดิม "
      ]
    },
    {
      "cell_type": "code",
      "metadata": {
        "id": "zKv3JmcjQ45Y",
        "colab_type": "code",
        "colab": {}
      },
      "source": [
        "file = open('selected-topics.txt', 'w') \n",
        "#'w' – Write mode which is used to edit and write new information to the file\n",
        " \n",
        "file.write('Hello World!') \n",
        "file.write('Faculty of Informatics, Mahasarakham University') \n",
        "file.write('This is Selected Topics course') \n",
        " \n",
        "file.close() "
      ],
      "execution_count": 0,
      "outputs": []
    },
    {
      "cell_type": "code",
      "metadata": {
        "id": "XONLjSdquPES",
        "colab_type": "code",
        "outputId": "4151e886-1b6d-46ae-ee21-f75390a524a8",
        "colab": {
          "base_uri": "https://localhost:8080/",
          "height": 63
        }
      },
      "source": [
        "!ls"
      ],
      "execution_count": 2,
      "outputs": [
        {
          "output_type": "stream",
          "text": [
            "sample_data  selected-topics.txt\n"
          ],
          "name": "stdout"
        }
      ]
    },
    {
      "cell_type": "markdown",
      "metadata": {
        "id": "ZnNYXEoktvFV",
        "colab_type": "text"
      },
      "source": [
        "ใช้คำสั่ง **cat** เพื่ออ่านข้อมูลที่อยู่ในไฟล์ **selected-topics.txt**"
      ]
    },
    {
      "cell_type": "code",
      "metadata": {
        "id": "t9y60jBUsTdk",
        "colab_type": "code",
        "outputId": "5b348531-371a-461f-8c0f-d3311b9aa83a",
        "colab": {
          "base_uri": "https://localhost:8080/",
          "height": 46
        }
      },
      "source": [
        "!cat selected-topics.txt"
      ],
      "execution_count": 3,
      "outputs": [
        {
          "output_type": "stream",
          "text": [
            "Hello World!Faculty of Informatics, Mahasarakham UniversityThis is Selected Topics course"
          ],
          "name": "stdout"
        }
      ]
    },
    {
      "cell_type": "markdown",
      "metadata": {
        "id": "Qqx3xaSmubD6",
        "colab_type": "text"
      },
      "source": [
        "จากตัวอย่างข้างต้น ใช้คำสั่ง **file.write** เพื่อเขียนข้อมูลลงไปในไฟล์ แต่ไม่ได้พิมพ์คำสั่งให้ขึ้นบรรทัดใหม่ จึงทำให้ข้อความพิมพ์ต่อกันในบรรทัดเดียวกัน  \n",
        "  \n",
        "    \n",
        "**ดังนั้น** หากต้องการให้เพิ่มข้อมูลลงไปในบรรทัดใหม่จะต้องใช้คำสั่ง **\\n** เพิ่มเข้าไปต่อท้ายข้อความ"
      ]
    },
    {
      "cell_type": "code",
      "metadata": {
        "id": "EoPvzJH4sV1e",
        "colab_type": "code",
        "colab": {}
      },
      "source": [
        "file = open('selected-topics.txt', 'w') \n",
        "#'w' – Write mode which is used to edit and write new information to the file\n",
        " \n",
        "file.write('Hello World!\\n') \n",
        "file.write('Faculty of Informatics, Mahasarakham University\\n') \n",
        "file.write('This is Selected Topics course\\n') \n",
        " \n",
        "file.close() "
      ],
      "execution_count": 0,
      "outputs": []
    },
    {
      "cell_type": "markdown",
      "metadata": {
        "id": "MYz-8Tn1veZL",
        "colab_type": "text"
      },
      "source": [
        "เมื่อใช้คำสั่ง cat เพื่อดูข้อมูลจะสังเกตเห็นว่าข้อความได้ขึ้นบรรทัดใหม่ และข้อความที่เขียนลงไปใหม่จะทับกับข้อมูลเดิม เนื่องจากการเปิดไฟล์แบบ **w**"
      ]
    },
    {
      "cell_type": "code",
      "metadata": {
        "id": "F7ksS6YLses5",
        "colab_type": "code",
        "outputId": "a477612a-e83a-469d-ac71-d2512f55b476",
        "colab": {
          "base_uri": "https://localhost:8080/",
          "height": 97
        }
      },
      "source": [
        "!cat selected-topics.txt"
      ],
      "execution_count": 5,
      "outputs": [
        {
          "output_type": "stream",
          "text": [
            "Hello World!\n",
            "Faculty of Informatics, Mahasarakham University\n",
            "This is Selected Topics course\n"
          ],
          "name": "stdout"
        }
      ]
    },
    {
      "cell_type": "markdown",
      "metadata": {
        "id": "rFy9dllFwVQ2",
        "colab_type": "text"
      },
      "source": [
        "### Write file ด้วยโหมด a  \n",
        "\n",
        "'a'– **a** คือการเปิดไฟล์เพื่อเขียนข้อมูลลงไปในไฟล์ โดยที่ข้อมูลที่เขียนลงไปนั้นจะถูกนำไปต่อท้าย (append) ข้อมูลเดิมที่มีอยู่ในไฟล์"
      ]
    },
    {
      "cell_type": "code",
      "metadata": {
        "id": "Q5nkpaYVwHLf",
        "colab_type": "code",
        "colab": {}
      },
      "source": [
        "file = open('selected-topics.txt', 'a') \n",
        "#'a' – Appending mode, which is used to add new data to the end of the file; \n",
        "#that is new information is automatically amended to the end\n",
        " \n",
        "file.write('Hello World!\\n') \n",
        "file.write('Faculty of Informatics, Mahasarakham University\\n') \n",
        "file.write('This is Selected Topics course\\n') \n",
        " \n",
        "file.close() "
      ],
      "execution_count": 0,
      "outputs": []
    },
    {
      "cell_type": "markdown",
      "metadata": {
        "id": "nLJO2xU9xLdG",
        "colab_type": "text"
      },
      "source": [
        "เมื่อใช้คำสั่ง cat จะเห็นว่าข้อมูลที่เขียนลงไปใหม่ (file.write) จะถูกเขียนต่อท้ายข้อมูลเดิม เนื่องจากใช้การเปิดไฟล์ในโหมด **'a'** หรือ append"
      ]
    },
    {
      "cell_type": "code",
      "metadata": {
        "id": "vD7L31FCwct1",
        "colab_type": "code",
        "outputId": "830ac7b3-b2fc-4912-81d2-d039f56e618d",
        "colab": {
          "base_uri": "https://localhost:8080/",
          "height": 148
        }
      },
      "source": [
        "!cat selected-topics.txt"
      ],
      "execution_count": 8,
      "outputs": [
        {
          "output_type": "stream",
          "text": [
            "Hello World!\n",
            "Faculty of Informatics, Mahasarakham University\n",
            "This is Selected Topics course\n",
            "Hello World!\n",
            "Faculty of Informatics, Mahasarakham University\n",
            "This is Selected Topics course\n"
          ],
          "name": "stdout"
        }
      ]
    },
    {
      "cell_type": "markdown",
      "metadata": {
        "id": "jv8a-xgMxpec",
        "colab_type": "text"
      },
      "source": [
        "## Open file - การเปิดไฟล์เพื่ออ่านข้อมูล\n",
        "\n",
        "'r' - **r** ใช้สำหรับการอ่านข้อมูลภายในไฟล์เท่านั้น"
      ]
    },
    {
      "cell_type": "code",
      "metadata": {
        "id": "JKk-_gFVwfYG",
        "colab_type": "code",
        "outputId": "1a74bcfc-491b-4fb9-9cf4-0d9412ee11ad",
        "colab": {
          "base_uri": "https://localhost:8080/",
          "height": 136
        }
      },
      "source": [
        "file = open('selected-topics.txt', 'r') \n",
        "#'r' Read mode which is used when the file is only being read \n",
        "\n",
        "print(file.read()) "
      ],
      "execution_count": 9,
      "outputs": [
        {
          "output_type": "stream",
          "text": [
            "Hello World!\n",
            "Faculty of Informatics, Mahasarakham University\n",
            "This is Selected Topics course\n",
            "Hello World!\n",
            "Faculty of Informatics, Mahasarakham University\n",
            "This is Selected Topics course\n",
            "\n"
          ],
          "name": "stdout"
        }
      ]
    },
    {
      "cell_type": "markdown",
      "metadata": {
        "id": "vna_Xv-JykpX",
        "colab_type": "text"
      },
      "source": [
        "### อ่านและแสดงข้อมูลตามจำนวนที่กำหนด\n",
        "\n",
        "สามารถกำหนดจำนวนของข้อมูลที่ต้องการแสดง ดังนี้"
      ]
    },
    {
      "cell_type": "code",
      "metadata": {
        "id": "msBoBclxx3hU",
        "colab_type": "code",
        "outputId": "46fa2daf-08d5-4255-dbb1-707dbcff2902",
        "colab": {
          "base_uri": "https://localhost:8080/",
          "height": 34
        }
      },
      "source": [
        "file = open('selected-topics.txt', 'r') \n",
        "\n",
        "print(file.read(12)) # 12 ตัวอักษร"
      ],
      "execution_count": 10,
      "outputs": [
        {
          "output_type": "stream",
          "text": [
            "Hello World!\n"
          ],
          "name": "stdout"
        }
      ]
    },
    {
      "cell_type": "code",
      "metadata": {
        "id": "bJe1iXcy4xuV",
        "colab_type": "code",
        "colab": {
          "base_uri": "https://localhost:8080/",
          "height": 68
        },
        "outputId": "c5837b13-03b7-46ac-ae65-e4810d9a0218"
      },
      "source": [
        "file = open('selected-topics.txt', 'r') \n",
        "\n",
        "print(file.read(61)) # 61 ตัวอักษร"
      ],
      "execution_count": 12,
      "outputs": [
        {
          "output_type": "stream",
          "text": [
            "Hello World!\n",
            "Faculty of Informatics, Mahasarakham University\n",
            "\n"
          ],
          "name": "stdout"
        }
      ]
    },
    {
      "cell_type": "markdown",
      "metadata": {
        "id": "65Y4to32zNuO",
        "colab_type": "text"
      },
      "source": [
        "### อ่านและแสดงข้อมูลทีละบรรทัด\n",
        "\n",
        "file.readline() จะแสดงข้อมูลเฉพาะบรรทัดแรก"
      ]
    },
    {
      "cell_type": "code",
      "metadata": {
        "id": "6RHDmaZMya9T",
        "colab_type": "code",
        "outputId": "cc8f7be2-3973-46dd-8fbf-abadc9182f1c",
        "colab": {
          "base_uri": "https://localhost:8080/",
          "height": 51
        }
      },
      "source": [
        "file = open('selected-topics.txt', 'r') \n",
        "\n",
        "print(file.readline())"
      ],
      "execution_count": 18,
      "outputs": [
        {
          "output_type": "stream",
          "text": [
            "Hello World!\n",
            "\n"
          ],
          "name": "stdout"
        }
      ]
    },
    {
      "cell_type": "markdown",
      "metadata": {
        "id": "gZTSw7rTzlex",
        "colab_type": "text"
      },
      "source": [
        "หากต้องการแสดงข้อมูลทั้งหมดสามารถใช้ **readlines()**"
      ]
    },
    {
      "cell_type": "code",
      "metadata": {
        "id": "oxLOymWxy5GL",
        "colab_type": "code",
        "outputId": "2559515e-7f58-4590-cb46-c7aeac2c2830",
        "colab": {
          "base_uri": "https://localhost:8080/",
          "height": 74
        }
      },
      "source": [
        "file = open('selected-topics.txt', 'r') \n",
        "\n",
        "print(file.readlines())"
      ],
      "execution_count": 23,
      "outputs": [
        {
          "output_type": "stream",
          "text": [
            "['Hello World!\\n', 'Faculty of Informatics, Mahasarakham University\\n', 'This is Selected Topics course\\n', 'Hello World!\\n', 'Faculty of Informatics, Mahasarakham University\\n', 'This is Selected Topics course\\n']\n"
          ],
          "name": "stdout"
        }
      ]
    },
    {
      "cell_type": "markdown",
      "metadata": {
        "id": "6BnZZq905h3f",
        "colab_type": "text"
      },
      "source": [
        "หากต้องการแสดงข้อมูลทีละบรรทัดโดยใช้ **readlines()**"
      ]
    },
    {
      "cell_type": "code",
      "metadata": {
        "id": "LhHIakAg5FVv",
        "colab_type": "code",
        "colab": {
          "base_uri": "https://localhost:8080/",
          "height": 119
        },
        "outputId": "a95ea082-4c03-4309-8439-7d2cb8ee0849"
      },
      "source": [
        "file = open('selected-topics.txt', 'r') \n",
        "\n",
        "all_text = file.readlines()\n",
        "print('Type', type(all_text))\n",
        "print('Number of lines', len(all_text))\n",
        "print('Line No. 1', all_text[0])\n",
        "print('Line No. 2', all_text[1])"
      ],
      "execution_count": 28,
      "outputs": [
        {
          "output_type": "stream",
          "text": [
            "Type <class 'list'>\n",
            "Number of lines 6\n",
            "Line No. 1 Hello World!\n",
            "\n",
            "Line No. 2 Faculty of Informatics, Mahasarakham University\n",
            "\n"
          ],
          "name": "stdout"
        }
      ]
    },
    {
      "cell_type": "markdown",
      "metadata": {
        "id": "7RDeG2xg5q9p",
        "colab_type": "text"
      },
      "source": [
        "แสดงข้อมูลทั้งหมดจาก **List** เนื่องจากได้อ่านข้อมูลจากไฟล์และเก็บไว้ที่ตัวแปร **all_text** "
      ]
    },
    {
      "cell_type": "code",
      "metadata": {
        "id": "SWlS7OpT54pe",
        "colab_type": "code",
        "colab": {
          "base_uri": "https://localhost:8080/",
          "height": 221
        },
        "outputId": "93c19e82-2162-480c-fe1e-7b9be1aa36f4"
      },
      "source": [
        "file = open('selected-topics.txt', 'r') \n",
        "\n",
        "all_text = file.readlines()\n",
        "cnt = 1\n",
        "for text in all_text:\n",
        "  print('Line No.', cnt, text)\n",
        "  cnt += 1"
      ],
      "execution_count": 37,
      "outputs": [
        {
          "output_type": "stream",
          "text": [
            "Line No. 1 Hello World!\n",
            "\n",
            "Line No. 2 Faculty of Informatics, Mahasarakham University\n",
            "\n",
            "Line No. 3 This is Selected Topics course\n",
            "\n",
            "Line No. 4 Hello World!\n",
            "\n",
            "Line No. 5 Faculty of Informatics, Mahasarakham University\n",
            "\n",
            "Line No. 6 This is Selected Topics course\n",
            "\n"
          ],
          "name": "stdout"
        }
      ]
    },
    {
      "cell_type": "markdown",
      "metadata": {
        "id": "6KjMXxF60T9Z",
        "colab_type": "text"
      },
      "source": [
        "สามารถเขียน for-loop เพื่อแสดงข้อมูลที่อ่านจาก text file ได้โดยตรง โดยไม่ต้องเก็บไว้ในตัวแปรประเภท List ดังนี้"
      ]
    },
    {
      "cell_type": "code",
      "metadata": {
        "id": "JRcxmeBhzUAQ",
        "colab_type": "code",
        "outputId": "ac1689fa-6825-4d2a-830d-533616843e82",
        "colab": {
          "base_uri": "https://localhost:8080/",
          "height": 221
        }
      },
      "source": [
        "file = open('selected-topics.txt', 'r') \n",
        "\n",
        "cnt = 1\n",
        "for line in file.readlines():\n",
        "  print('Line No.', cnt, line)\n",
        "  cnt += 1"
      ],
      "execution_count": 38,
      "outputs": [
        {
          "output_type": "stream",
          "text": [
            "Line No. 1 Hello World!\n",
            "\n",
            "Line No. 2 Faculty of Informatics, Mahasarakham University\n",
            "\n",
            "Line No. 3 This is Selected Topics course\n",
            "\n",
            "Line No. 4 Hello World!\n",
            "\n",
            "Line No. 5 Faculty of Informatics, Mahasarakham University\n",
            "\n",
            "Line No. 6 This is Selected Topics course\n",
            "\n"
          ],
          "name": "stdout"
        }
      ]
    },
    {
      "cell_type": "markdown",
      "metadata": {
        "id": "x13_jx3P0v05",
        "colab_type": "text"
      },
      "source": [
        "จากตัวอย่างข้างต้น ผลลัพธ์อาจเกิดข้อผิดพลาดเนื่องจาก '\\n' ดังนั้น สามารถแก้ไขได้ดังนี้  \n",
        "\n",
        "ใช้คำสั่ง **strip()** เข้ามาช่วยในการจัดการ"
      ]
    },
    {
      "cell_type": "code",
      "metadata": {
        "id": "OrGc7oO4z8dB",
        "colab_type": "code",
        "outputId": "ddb57f96-ba64-458e-f537-579898d13645",
        "colab": {
          "base_uri": "https://localhost:8080/",
          "height": 119
        }
      },
      "source": [
        "file = open('selected-topics.txt', 'r') \n",
        "\n",
        "for line in file: \n",
        "  print(line.strip())"
      ],
      "execution_count": 39,
      "outputs": [
        {
          "output_type": "stream",
          "text": [
            "Hello World!\n",
            "Faculty of Informatics, Mahasarakham University\n",
            "This is Selected Topics course\n",
            "Hello World!\n",
            "Faculty of Informatics, Mahasarakham University\n",
            "This is Selected Topics course\n"
          ],
          "name": "stdout"
        }
      ]
    },
    {
      "cell_type": "code",
      "metadata": {
        "id": "m_WhqpeK5xIx",
        "colab_type": "code",
        "outputId": "eed90c0b-8694-4272-e394-d1cd78b8de60",
        "colab": {
          "base_uri": "https://localhost:8080/",
          "height": 119
        }
      },
      "source": [
        "file = open('selected-topics.txt', 'r') \n",
        "\n",
        "for line in file.readlines():\n",
        "  print(line.strip())"
      ],
      "execution_count": 40,
      "outputs": [
        {
          "output_type": "stream",
          "text": [
            "Hello World!\n",
            "Faculty of Informatics, Mahasarakham University\n",
            "This is Selected Topics course\n",
            "Hello World!\n",
            "Faculty of Informatics, Mahasarakham University\n",
            "This is Selected Topics course\n"
          ],
          "name": "stdout"
        }
      ]
    },
    {
      "cell_type": "markdown",
      "metadata": {
        "id": "FZK9-iIV6_qn",
        "colab_type": "text"
      },
      "source": [
        "นอกจากใช้ **strip()** เพื่อช่วยจัดการการ **'\\n'** ยังสามารถใช้คำสั่ง **end=''** ได้เช่นกัน"
      ]
    },
    {
      "cell_type": "code",
      "metadata": {
        "id": "VYHC1mXo7SJc",
        "colab_type": "code",
        "colab": {
          "base_uri": "https://localhost:8080/",
          "height": 119
        },
        "outputId": "0bc4b9c5-5fae-472e-ca8f-8f9dd7e65464"
      },
      "source": [
        "file = open('selected-topics.txt', 'r') \n",
        "\n",
        "all_text = file.readlines()\n",
        "cnt = 1\n",
        "for text in all_text:\n",
        "  print('Line No.', cnt, text, end='')\n",
        "  cnt += 1"
      ],
      "execution_count": 43,
      "outputs": [
        {
          "output_type": "stream",
          "text": [
            "Line No. 1 Hello World!\n",
            "Line No. 2 Faculty of Informatics, Mahasarakham University\n",
            "Line No. 3 This is Selected Topics course\n",
            "Line No. 4 Hello World!\n",
            "Line No. 5 Faculty of Informatics, Mahasarakham University\n",
            "Line No. 6 This is Selected Topics course\n"
          ],
          "name": "stdout"
        }
      ]
    },
    {
      "cell_type": "code",
      "metadata": {
        "id": "jIxpD2IK7KZi",
        "colab_type": "code",
        "colab": {
          "base_uri": "https://localhost:8080/",
          "height": 119
        },
        "outputId": "8813f429-8efe-4a79-a440-ea022cc065ed"
      },
      "source": [
        "file = open('selected-topics.txt', 'r') \n",
        "\n",
        "cnt = 1\n",
        "for line in file.readlines():\n",
        "  print('Line No.', cnt, line, end='')\n",
        "  cnt += 1"
      ],
      "execution_count": 41,
      "outputs": [
        {
          "output_type": "stream",
          "text": [
            "Line No. 1 Hello World!\n",
            "Line No. 2 Faculty of Informatics, Mahasarakham University\n",
            "Line No. 3 This is Selected Topics course\n",
            "Line No. 4 Hello World!\n",
            "Line No. 5 Faculty of Informatics, Mahasarakham University\n",
            "Line No. 6 This is Selected Topics course\n"
          ],
          "name": "stdout"
        }
      ]
    },
    {
      "cell_type": "markdown",
      "metadata": {
        "id": "ycY1Xc1E6Ft0",
        "colab_type": "text"
      },
      "source": [
        "สามารถใช้ **with statement** เข้ามาช่วยในการอ่านไฟล์"
      ]
    },
    {
      "cell_type": "code",
      "metadata": {
        "id": "2m_WVC0v62hM",
        "colab_type": "code",
        "outputId": "c573b05a-43e8-4cc0-ed29-303f30296673",
        "colab": {
          "base_uri": "https://localhost:8080/",
          "height": 119
        }
      },
      "source": [
        "filepath = 'selected-topics.txt'\n",
        "with open(filepath) as fp:\n",
        "  for line in fp:\n",
        "    print(line.strip())"
      ],
      "execution_count": 44,
      "outputs": [
        {
          "output_type": "stream",
          "text": [
            "Hello World!\n",
            "Faculty of Informatics, Mahasarakham University\n",
            "This is Selected Topics course\n",
            "Hello World!\n",
            "Faculty of Informatics, Mahasarakham University\n",
            "This is Selected Topics course\n"
          ],
          "name": "stdout"
        }
      ]
    },
    {
      "cell_type": "code",
      "metadata": {
        "id": "yzY6W58L1AEK",
        "colab_type": "code",
        "outputId": "86d1b684-eadd-4485-cdf8-ad2cdc8a2fe8",
        "colab": {
          "base_uri": "https://localhost:8080/",
          "height": 119
        }
      },
      "source": [
        "filepath = 'selected-topics.txt'\n",
        "with open(filepath) as fp:\n",
        "   line = fp.readline()   \n",
        "   while line:\n",
        "       print(line.strip())\n",
        "       line = fp.readline()"
      ],
      "execution_count": 45,
      "outputs": [
        {
          "output_type": "stream",
          "text": [
            "Hello World!\n",
            "Faculty of Informatics, Mahasarakham University\n",
            "This is Selected Topics course\n",
            "Hello World!\n",
            "Faculty of Informatics, Mahasarakham University\n",
            "This is Selected Topics course\n"
          ],
          "name": "stdout"
        }
      ]
    },
    {
      "cell_type": "markdown",
      "metadata": {
        "id": "BQWmxDDyYcg7",
        "colab_type": "text"
      },
      "source": [
        "## ค้นหาข้อมูลและแทนที่ข้อมูลที่ค้นหาด้วยข้อมูลใหม่ (Search and Replace)"
      ]
    },
    {
      "cell_type": "code",
      "metadata": {
        "id": "YGutRo4bY-cM",
        "colab_type": "code",
        "outputId": "8f8dec53-db57-4621-ce35-bcbb437270d4",
        "colab": {
          "base_uri": "https://localhost:8080/",
          "height": 63
        }
      },
      "source": [
        "!ls"
      ],
      "execution_count": 47,
      "outputs": [
        {
          "output_type": "stream",
          "text": [
            "sample_data  selected-topics.txt\n"
          ],
          "name": "stdout"
        }
      ]
    },
    {
      "cell_type": "code",
      "metadata": {
        "id": "UOCMur3MYxaQ",
        "colab_type": "code",
        "outputId": "b380182b-4545-4069-b130-adbc54b1b748",
        "colab": {
          "base_uri": "https://localhost:8080/",
          "height": 119
        }
      },
      "source": [
        "filepath = 'selected-topics.txt'\n",
        "with open(filepath) as fp:\n",
        "  for line in fp:\n",
        "    print(line.strip())"
      ],
      "execution_count": 48,
      "outputs": [
        {
          "output_type": "stream",
          "text": [
            "Hello World!\n",
            "Faculty of Informatics, Mahasarakham University\n",
            "This is Selected Topics course\n",
            "Hello World!\n",
            "Faculty of Informatics, Mahasarakham University\n",
            "This is Selected Topics course\n"
          ],
          "name": "stdout"
        }
      ]
    },
    {
      "cell_type": "markdown",
      "metadata": {
        "id": "0YCbjcBLZHTW",
        "colab_type": "text"
      },
      "source": [
        "###ค้นหาข้อมูล (Search) ด้วย Regular Expression\n",
        "จากตัวอย่างกำหนดให้ค้นหาคำว่า **'World'**"
      ]
    },
    {
      "cell_type": "code",
      "metadata": {
        "id": "lZVuOL5Ie9Ds",
        "colab_type": "code",
        "outputId": "d5054db9-71d6-4b14-d23f-24f139d29654",
        "colab": {
          "base_uri": "https://localhost:8080/",
          "height": 51
        }
      },
      "source": [
        "import re\n",
        "\n",
        "search_txt = 'World'   # คำที่ต้องการค้นหา\n",
        "\n",
        "cnt = 1\n",
        "filepath = 'selected-topics.txt'\n",
        "with open(filepath) as fp:\n",
        "  for line in fp:\n",
        "    match = re.search(search_txt, line.strip())\n",
        "    if match:\n",
        "      print('Found in line No:', cnt, line.strip())\n",
        "    else:\n",
        "      pass   \n",
        "    cnt += 1"
      ],
      "execution_count": 51,
      "outputs": [
        {
          "output_type": "stream",
          "text": [
            "Found in line No: 1 Hello World!\n",
            "Found in line No: 4 Hello World!\n"
          ],
          "name": "stdout"
        }
      ]
    },
    {
      "cell_type": "markdown",
      "metadata": {
        "id": "09qxRlURfKXW",
        "colab_type": "text"
      },
      "source": [
        "### หากค้นพบข้อมูลให้ทำการแทนที่ด้วยข้อความใหม่ (Replace)\n",
        "\n",
        "หากค้นพบคำว่า **World** ให้แทนที่ด้วยคำว่า **Global**"
      ]
    },
    {
      "cell_type": "code",
      "metadata": {
        "id": "ax4ozS8BZFn-",
        "colab_type": "code",
        "outputId": "65b4c379-7c1a-409e-ecfe-1448005f3781",
        "colab": {
          "base_uri": "https://localhost:8080/",
          "height": 119
        }
      },
      "source": [
        "import re\n",
        "\n",
        "search_txt = 'World'   # คำที่ต้องการค้นหา\n",
        "change_txt = 'Global'  # คำที่ต้องการเปลี่ยน (replace)\n",
        "\n",
        "filepath = 'selected-topics.txt'\n",
        "with open(filepath) as fp:\n",
        "  for line in fp:\n",
        "    match = re.search(search_txt, line.strip())\n",
        "    if match:\n",
        "      print(line.replace(search_txt, change_txt).strip())      \n",
        "    else:\n",
        "      print(line.strip())                "
      ],
      "execution_count": 52,
      "outputs": [
        {
          "output_type": "stream",
          "text": [
            "Hello Global!\n",
            "Faculty of Informatics, Mahasarakham University\n",
            "This is Selected Topics course\n",
            "Hello Global!\n",
            "Faculty of Informatics, Mahasarakham University\n",
            "This is Selected Topics course\n"
          ],
          "name": "stdout"
        }
      ]
    },
    {
      "cell_type": "markdown",
      "metadata": {
        "colab_type": "text",
        "id": "_tjDtRWghDmZ"
      },
      "source": [
        "# Try Except - การจัดการข้อผิดพลาด"
      ]
    },
    {
      "cell_type": "markdown",
      "metadata": {
        "colab_type": "text",
        "id": "MG63ZNJLhDml"
      },
      "source": [
        "*   ตัวอย่างการหาตัวเลขใน string\n",
        "*   วิธีนี้จะหาตัวเลขแบบ **float** ใน **string** ไม่ได้\n",
        "\n"
      ]
    },
    {
      "cell_type": "code",
      "metadata": {
        "colab_type": "code",
        "outputId": "82fc071a-4021-4586-f5b8-fea04a695c6d",
        "id": "XuQ50g9QhDmr",
        "colab": {
          "base_uri": "https://localhost:8080/",
          "height": 51
        }
      },
      "source": [
        "# initializing string  \n",
        "test_string = \"There are 2 apples for 4 persons\"\n",
        "  \n",
        "# printing original string  \n",
        "print(\"The original string : \" + test_string) \n",
        "  \n",
        "# using List comprehension + isdigit() +split() \n",
        "# getting numbers from string  \n",
        "res = [int(i) for i in test_string.split() if i.isdigit()] \n",
        "  \n",
        "# print result \n",
        "print(\"The numbers list is : \" + str(res))"
      ],
      "execution_count": 53,
      "outputs": [
        {
          "output_type": "stream",
          "text": [
            "The original string : There are 2 apples for 4 persons\n",
            "The numbers list is : [2, 4]\n"
          ],
          "name": "stdout"
        }
      ]
    },
    {
      "cell_type": "markdown",
      "metadata": {
        "id": "XejyoWgc8wnS",
        "colab_type": "text"
      },
      "source": [
        "หากเปลี่ยนเป็นเลข **2.5** แต่ก็จะค้นเจอเฉพาะเลข **4** เท่านั้น"
      ]
    },
    {
      "cell_type": "code",
      "metadata": {
        "colab_type": "code",
        "outputId": "c66b9e52-a496-455f-ac01-3c1da6785e1e",
        "id": "UbUq8ZNnhDm4",
        "colab": {
          "base_uri": "https://localhost:8080/",
          "height": 51
        }
      },
      "source": [
        "# initializing string  \n",
        "test_string = \"There are 2.5 apples for 4 persons\"\n",
        "  \n",
        "# printing original string  \n",
        "print(\"The original string : \" + test_string) \n",
        "  \n",
        "# using List comprehension + isdigit() +split() \n",
        "# getting numbers from string  \n",
        "res = [int(i) for i in test_string.split() if i.isdigit()] \n",
        "  \n",
        "# print result \n",
        "print(\"The numbers list is : \" + str(res))"
      ],
      "execution_count": 55,
      "outputs": [
        {
          "output_type": "stream",
          "text": [
            "The original string : There are 2.5 apples for 4 persons\n",
            "The numbers list is : [4]\n"
          ],
          "name": "stdout"
        }
      ]
    },
    {
      "cell_type": "markdown",
      "metadata": {
        "colab_type": "text",
        "id": "KeaXuHbDhDm-"
      },
      "source": [
        "วิธีการค้นหาตัวเลขที่เป็น float สามารถทำได้หลากหลายวิธี ตัวอย่างแสดงให้เห็นการใช้ **split** เข้ามาช่วยในการค้นหา float\n",
        "\n",
        "* **split** จะใช้ได้กับตัวแปรประเภท string เท่านั้น\n",
        "* เมื่อใช้คำสั่ง split ผลลัพธ์ที่ได้จะเป็นประเภท **list**"
      ]
    },
    {
      "cell_type": "code",
      "metadata": {
        "colab_type": "code",
        "outputId": "7f961452-eab0-4b01-e81f-7eaddaca5198",
        "id": "_G1RPAYWhDnA",
        "colab": {
          "base_uri": "https://localhost:8080/",
          "height": 34
        }
      },
      "source": [
        "test_string = \"There are 2.5 apples for 4 persons\"\n",
        "test_string.split(' ')"
      ],
      "execution_count": 56,
      "outputs": [
        {
          "output_type": "execute_result",
          "data": {
            "text/plain": [
              "['There', 'are', '2.5', 'apples', 'for', '4', 'persons']"
            ]
          },
          "metadata": {
            "tags": []
          },
          "execution_count": 56
        }
      ]
    },
    {
      "cell_type": "markdown",
      "metadata": {
        "colab_type": "text",
        "id": "crzy9iQ3hDnG"
      },
      "source": [
        "ยกตัวอย่าง การใช้ try except เข้ามาช่วยในการจัดการข้อผิดพลาด\n",
        "\n",
        "* จากกรณีต่อไปนี้ กำหนดให้ **chk_txt = 'apple'** ดังนั้น **chk_txt** จึงเป็นตัวแปรประเภท **str** \n",
        "* ดังนั้น หากตัวแปรประเภท **str** ถูกครอบด้วยฟังก์ชัน **float** จะเกิดข้อผิดพลาขึ้น ดังนี้"
      ]
    },
    {
      "cell_type": "code",
      "metadata": {
        "id": "TmzFqur190Dk",
        "colab_type": "code",
        "colab": {
          "base_uri": "https://localhost:8080/",
          "height": 232
        },
        "outputId": "10549de4-047b-4b6a-ce39-fb69a7a1e98d"
      },
      "source": [
        "chk_txt = 'apple'\n",
        "\n",
        "if(float(chk_txt)):\n",
        "  print('float', chk_txt)\n",
        "else:\n",
        "  print('not float')"
      ],
      "execution_count": 57,
      "outputs": [
        {
          "output_type": "error",
          "ename": "ValueError",
          "evalue": "ignored",
          "traceback": [
            "\u001b[0;31m---------------------------------------------------------------------------\u001b[0m",
            "\u001b[0;31mValueError\u001b[0m                                Traceback (most recent call last)",
            "\u001b[0;32m<ipython-input-57-1dcabc00bff0>\u001b[0m in \u001b[0;36m<module>\u001b[0;34m()\u001b[0m\n\u001b[1;32m      1\u001b[0m \u001b[0mchk_txt\u001b[0m \u001b[0;34m=\u001b[0m \u001b[0;34m'apple'\u001b[0m\u001b[0;34m\u001b[0m\u001b[0;34m\u001b[0m\u001b[0m\n\u001b[1;32m      2\u001b[0m \u001b[0;34m\u001b[0m\u001b[0m\n\u001b[0;32m----> 3\u001b[0;31m \u001b[0;32mif\u001b[0m\u001b[0;34m(\u001b[0m\u001b[0mfloat\u001b[0m\u001b[0;34m(\u001b[0m\u001b[0mchk_txt\u001b[0m\u001b[0;34m)\u001b[0m\u001b[0;34m)\u001b[0m\u001b[0;34m:\u001b[0m\u001b[0;34m\u001b[0m\u001b[0;34m\u001b[0m\u001b[0m\n\u001b[0m\u001b[1;32m      4\u001b[0m   \u001b[0mprint\u001b[0m\u001b[0;34m(\u001b[0m\u001b[0;34m'float'\u001b[0m\u001b[0;34m,\u001b[0m \u001b[0mchk_txt\u001b[0m\u001b[0;34m)\u001b[0m\u001b[0;34m\u001b[0m\u001b[0;34m\u001b[0m\u001b[0m\n\u001b[1;32m      5\u001b[0m \u001b[0;32melse\u001b[0m\u001b[0;34m:\u001b[0m\u001b[0;34m\u001b[0m\u001b[0;34m\u001b[0m\u001b[0m\n",
            "\u001b[0;31mValueError\u001b[0m: could not convert string to float: 'apple'"
          ]
        }
      ]
    },
    {
      "cell_type": "markdown",
      "metadata": {
        "id": "qemmiLjJ99o4",
        "colab_type": "text"
      },
      "source": [
        "ดังนั้น การใช้ฟังก์ชัน **float** จะใช้ได้กับตัวแปรที่เป็นตัวเลขเท่านั้น เช่น"
      ]
    },
    {
      "cell_type": "code",
      "metadata": {
        "id": "KoDNOx7I-EV8",
        "colab_type": "code",
        "colab": {
          "base_uri": "https://localhost:8080/",
          "height": 34
        },
        "outputId": "d6a33ac9-c468-4379-a051-9e2898a3eee8"
      },
      "source": [
        "chk_txt = '2.5'\n",
        "\n",
        "if(float(chk_txt)):\n",
        "  print('float', chk_txt)\n",
        "else:\n",
        "  print('not float')"
      ],
      "execution_count": 58,
      "outputs": [
        {
          "output_type": "stream",
          "text": [
            "float 2.5\n"
          ],
          "name": "stdout"
        }
      ]
    },
    {
      "cell_type": "markdown",
      "metadata": {
        "id": "xpLmvQsa-H0S",
        "colab_type": "text"
      },
      "source": [
        "หากข้อมูลที่อยู่ในตัวแปร **chk_txt** มีค่าเป็น **2** ก็จะถือว่าเป็นข้อมูลประเภท **float** ด้วยเช่นกัน"
      ]
    },
    {
      "cell_type": "code",
      "metadata": {
        "id": "KujsYyWL-PF0",
        "colab_type": "code",
        "colab": {
          "base_uri": "https://localhost:8080/",
          "height": 34
        },
        "outputId": "9a145386-5787-4a7d-95a4-45065a836650"
      },
      "source": [
        "chk_txt = '2'\n",
        "\n",
        "if(float(chk_txt)):\n",
        "  print('float', chk_txt)\n",
        "else:\n",
        "  print('not float')"
      ],
      "execution_count": 59,
      "outputs": [
        {
          "output_type": "stream",
          "text": [
            "float 2\n"
          ],
          "name": "stdout"
        }
      ]
    },
    {
      "cell_type": "markdown",
      "metadata": {
        "id": "GOIzqEUe-cZk",
        "colab_type": "text"
      },
      "source": [
        "จากที่ได้กล่าวมาข้างต้น จึงได้ใช้ **try-except** เข้ามาเพื่อช่วยจัดการกับข้อผิดพลาดที่อาจจะเกิดขึ้น ดังนี้\n",
        "\n",
        "* สังเกตได้ว่า **chk_txt = 'apple'** เป็นตัวแปรประเภท **str** แต่ก็ไม่มี error หรือข้อผิดพลาดปรากฎ"
      ]
    },
    {
      "cell_type": "code",
      "metadata": {
        "colab_type": "code",
        "outputId": "f3aec814-09fa-4409-ff22-a1dbc16377ef",
        "id": "Y77lhkcahDnI",
        "colab": {
          "base_uri": "https://localhost:8080/",
          "height": 34
        }
      },
      "source": [
        "chk_txt = 'apple'\n",
        "\n",
        "try:\n",
        "  float(chk_txt)\n",
        "  print('float', chk_txt)\n",
        "except:\n",
        "  print('not float')"
      ],
      "execution_count": 60,
      "outputs": [
        {
          "output_type": "stream",
          "text": [
            "not float\n"
          ],
          "name": "stdout"
        }
      ]
    },
    {
      "cell_type": "code",
      "metadata": {
        "colab_type": "code",
        "outputId": "f5ff07ea-a28a-442f-aa8f-090a842c97fc",
        "id": "DcXOjNTEhDnN",
        "colab": {
          "base_uri": "https://localhost:8080/",
          "height": 34
        }
      },
      "source": [
        "chk_txt = '2.4'\n",
        "\n",
        "try:\n",
        "  float(chk_txt)\n",
        "  print('float', chk_txt)\n",
        "except:\n",
        "  print('not float')"
      ],
      "execution_count": 61,
      "outputs": [
        {
          "output_type": "stream",
          "text": [
            "float 2.4\n"
          ],
          "name": "stdout"
        }
      ]
    },
    {
      "cell_type": "markdown",
      "metadata": {
        "id": "W_YH7SmW_cgK",
        "colab_type": "text"
      },
      "source": [
        "## ตัวอย่างการประยุกต์ใช้คำสั่ง **split** และ **try-except** เพื่อค้นหาตัวเลขที่เป็น **float**  และ **int** ดังนี้"
      ]
    },
    {
      "cell_type": "code",
      "metadata": {
        "colab_type": "code",
        "outputId": "3fc7f311-a3b7-4597-c545-d04182f52fda",
        "id": "8NhpGIMYhDnU",
        "colab": {
          "base_uri": "https://localhost:8080/",
          "height": 136
        }
      },
      "source": [
        "test_string = \"There are 2.5 apples for 4 persons\"\n",
        "\n",
        "for test in test_string.split(' '):\n",
        "  try:\n",
        "    float(test)\n",
        "    print(test, ': Float')\n",
        "  except:\n",
        "    print(test, ': not Float')"
      ],
      "execution_count": 0,
      "outputs": [
        {
          "output_type": "stream",
          "text": [
            "There : not Float\n",
            "are : not Float\n",
            "2.5 : Float\n",
            "apples : not Float\n",
            "for : not Float\n",
            "4 : Float\n",
            "persons : not Float\n"
          ],
          "name": "stdout"
        }
      ]
    },
    {
      "cell_type": "markdown",
      "metadata": {
        "colab_type": "text",
        "id": "5v8Cl8QYhDnb"
      },
      "source": [
        "จากตัวอย่างข้างต้น หากค้นเจอตัวเลข ขั้นตอนถัดไปคือการเก็บตัวเลขลงในตัวแปรประเภท **list**"
      ]
    },
    {
      "cell_type": "code",
      "metadata": {
        "colab_type": "code",
        "outputId": "a1181a7b-c757-41fc-a62c-da0c5b8a48f2",
        "id": "R6MWG23ChDni",
        "colab": {
          "base_uri": "https://localhost:8080/",
          "height": 34
        }
      },
      "source": [
        "num = []  # กำหนดตัวแปรชื่อ num ให้เป็นตัวแปรประเภท list\n",
        "\n",
        "for test in test_string.split(' '):\n",
        "  try:\n",
        "    float(test)\n",
        "    # num.append() คือคำสั่งในการเพิ่มข้อมูลลงไปเก็บไว้ในตัวแปรประเภท list\n",
        "    num.append(float(test))\n",
        "  except:\n",
        "    pass\n",
        "  \n",
        "print('Number', num)"
      ],
      "execution_count": 62,
      "outputs": [
        {
          "output_type": "stream",
          "text": [
            "Number [2.5, 4.0]\n"
          ],
          "name": "stdout"
        }
      ]
    }
  ]
}