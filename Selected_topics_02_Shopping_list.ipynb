{
  "nbformat": 4,
  "nbformat_minor": 0,
  "metadata": {
    "colab": {
      "name": "Selected-topics-02-Shopping-list.ipynb",
      "version": "0.3.2",
      "provenance": [],
      "collapsed_sections": []
    },
    "kernelspec": {
      "name": "python3",
      "display_name": "Python 3"
    }
  },
  "cells": [
    {
      "cell_type": "markdown",
      "metadata": {
        "id": "98Z9V5omIQGa",
        "colab_type": "text"
      },
      "source": [
        "# เขียนโปรแกรม Shopping list"
      ]
    },
    {
      "cell_type": "markdown",
      "metadata": {
        "id": "iiAR3liNIWbC",
        "colab_type": "text"
      },
      "source": [
        "## สร้าง list\n",
        "* สร้าง list จำนวน 2 ตัวแปร เพื่อใช้เก็บข้อมูล"
      ]
    },
    {
      "cell_type": "code",
      "metadata": {
        "id": "tyhR0YGa1GCS",
        "colab_type": "code",
        "colab": {}
      },
      "source": [
        "# create list\n",
        "shopping_list = []\n",
        "shopping_price = []"
      ],
      "execution_count": 0,
      "outputs": []
    },
    {
      "cell_type": "markdown",
      "metadata": {
        "id": "t-QkJTXeIkRJ",
        "colab_type": "text"
      },
      "source": [
        "## ใช้ while-loop เพื่อวนรอบ\n",
        "* ใช้ **try-except** เพื่อจัดการกับข้อผิดพลาดจากการรับค่าจากคีย์บอร์ด\n",
        "* ใช้ฟังกัชัน **input()** เพื่อรับค่าจากคีย์บอร์ด\n",
        "* ใช้เมธอร์ด **append()** เพื่อเก็บค่าลง list"
      ]
    },
    {
      "cell_type": "code",
      "metadata": {
        "id": "RjARljF31NKy",
        "colab_type": "code",
        "outputId": "fb43b444-595e-459d-c253-4ee0124092cb",
        "colab": {
          "base_uri": "https://localhost:8080/",
          "height": 238
        }
      },
      "source": [
        "chk_loop = True\n",
        "while(chk_loop):\n",
        "  try:\n",
        "    s_list = input('Enter item you want to buy: ')\n",
        "    s_price = float(input('Enter price you want to pay (Baht): '))\n",
        "\n",
        "    shopping_list.append(s_list)\n",
        "    shopping_price.append(s_price)\n",
        "  except:\n",
        "    pass\n",
        "\n",
        "  chk = input('Do you want to add more item (y/n)? ')\n",
        "  if((chk != 'y') and (chk != 'Y')):\n",
        "    chk_loop = False\n",
        "    pass"
      ],
      "execution_count": 0,
      "outputs": [
        {
          "output_type": "stream",
          "text": [
            "Enter item you want to buy: rice\n",
            "Enter price you want to pay (Baht): 50\n",
            "Do you want to add more item (y/n)? y\n",
            "Enter item you want to buy: soup\n",
            "Enter price you want to pay (Baht): 21\n",
            "Do you want to add more item (y/n)? y\n",
            "Enter item you want to buy: banana\n",
            "Enter price you want to pay (Baht): 33\n",
            "Do you want to add more item (y/n)? n\n"
          ],
          "name": "stdout"
        }
      ]
    },
    {
      "cell_type": "markdown",
      "metadata": {
        "id": "RurY0rgmJxA8",
        "colab_type": "text"
      },
      "source": [
        "## ใช้ for-loop เพื่อแสดงข้อมูลที่อยู่ใน list"
      ]
    },
    {
      "cell_type": "markdown",
      "metadata": {
        "id": "1DFx4UfcLM--",
        "colab_type": "text"
      },
      "source": [
        "### ใช้ for-loop เพื่อหาผลรวมจาก shopping_price"
      ]
    },
    {
      "cell_type": "code",
      "metadata": {
        "id": "kMuSNmPjLKoj",
        "colab_type": "code",
        "outputId": "17356bfe-0033-44b5-e6b9-0f3a31c40a03",
        "colab": {
          "base_uri": "https://localhost:8080/",
          "height": 34
        }
      },
      "source": [
        "# sum\n",
        "total = 0\n",
        "for price in shopping_price:\n",
        "  total += price\n",
        "  #total = total + price\n",
        "  \n",
        "print(total)  "
      ],
      "execution_count": 0,
      "outputs": [
        {
          "output_type": "stream",
          "text": [
            "204.0\n"
          ],
          "name": "stdout"
        }
      ]
    },
    {
      "cell_type": "code",
      "metadata": {
        "id": "uiBxQvEIMywV",
        "colab_type": "code",
        "outputId": "f05c31bb-22eb-4117-f787-68a398acce60",
        "colab": {
          "base_uri": "https://localhost:8080/",
          "height": 34
        }
      },
      "source": [
        "total = 0\n",
        "\n",
        "for i in range(len(shopping_price)):\n",
        "  total = total + shopping_price[i]\n",
        "  \n",
        "print(total)"
      ],
      "execution_count": 0,
      "outputs": [
        {
          "output_type": "stream",
          "text": [
            "204.0\n"
          ],
          "name": "stdout"
        }
      ]
    },
    {
      "cell_type": "markdown",
      "metadata": {
        "id": "X8Fm--z3Ljio",
        "colab_type": "text"
      },
      "source": [
        "### ใช้ for-loop เพื่อแสดงข้อมูลใน shopping_list และ shopping_price"
      ]
    },
    {
      "cell_type": "code",
      "metadata": {
        "id": "yjH9Un3aIfYX",
        "colab_type": "code",
        "outputId": "a5b8f824-e0ac-4d8d-de7c-0eb3a65c7e94",
        "colab": {
          "base_uri": "https://localhost:8080/",
          "height": 238
        }
      },
      "source": [
        "print()  \n",
        "print('Your shopping list')\n",
        "print('='*20)\n",
        "print('list \\t price')\n",
        "print('='*20)\n",
        "for lst, price in zip(shopping_list, shopping_price):\n",
        "  print(lst, '\\t', price, 'B')\n",
        "print('-'*20)\n",
        "# sum\n",
        "total = 0\n",
        "for price in shopping_price:\n",
        "  total += price\n",
        "  #total = total + price\n",
        "  \n",
        "print('Total \\t', total, 'B')\n",
        "\n",
        "print('='*20)"
      ],
      "execution_count": 0,
      "outputs": [
        {
          "output_type": "stream",
          "text": [
            "\n",
            "Your shopping list\n",
            "====================\n",
            "list \t price\n",
            "====================\n",
            "milk \t 50.0 B\n",
            "milk \t 50.0 B\n",
            "rice \t 50.0 B\n",
            "soup \t 21.0 B\n",
            "banana \t 33.0 B\n",
            "--------------------\n",
            "Total \t 204.0 B\n",
            "====================\n"
          ],
          "name": "stdout"
        }
      ]
    },
    {
      "cell_type": "markdown",
      "metadata": {
        "id": "eST4jzx3L_Yf",
        "colab_type": "text"
      },
      "source": [
        "### ใช้ฟังก์ชัน sum() เพื่อหาผลรวมจาก shopping_price"
      ]
    },
    {
      "cell_type": "code",
      "metadata": {
        "id": "aziJfZNK1S7G",
        "colab_type": "code",
        "outputId": "a27ed4f5-429d-4f42-f861-ca7708b9d9fe",
        "colab": {
          "base_uri": "https://localhost:8080/",
          "height": 238
        }
      },
      "source": [
        "print()  \n",
        "print('Your shopping list')\n",
        "print('='*20)\n",
        "print('list \\t price')\n",
        "print('='*20)\n",
        "for lst, price in zip(shopping_list, shopping_price):\n",
        "  print(lst, '\\t', price, 'B')\n",
        "print('-'*20)\n",
        "print('Total \\t', sum(shopping_price), 'B')\n",
        "print('='*20)"
      ],
      "execution_count": 0,
      "outputs": [
        {
          "output_type": "stream",
          "text": [
            "\n",
            "Your shopping list\n",
            "====================\n",
            "list \t price\n",
            "====================\n",
            "milk \t 50.0 B\n",
            "milk \t 50.0 B\n",
            "rice \t 50.0 B\n",
            "soup \t 21.0 B\n",
            "banana \t 33.0 B\n",
            "--------------------\n",
            "Total \t 204.0 B\n",
            "====================\n"
          ],
          "name": "stdout"
        }
      ]
    },
    {
      "cell_type": "markdown",
      "metadata": {
        "id": "8HQEqx4VPrFz",
        "colab_type": "text"
      },
      "source": [
        "## การลบข้อมูลออกจาก list\n",
        "ในการลบข้อมูลออกจาก list จะต้องรู้ตำแหน่ง (index) ของข้อมูลที่จะลบ"
      ]
    },
    {
      "cell_type": "markdown",
      "metadata": {
        "id": "7OhIWzSWTN2h",
        "colab_type": "text"
      },
      "source": [
        " ### ใช้เมธอด pop เพื่อลบข้อมูลออกจาก list"
      ]
    },
    {
      "cell_type": "code",
      "metadata": {
        "id": "lkRdeTbZK88G",
        "colab_type": "code",
        "outputId": "73e40679-f2b4-4a81-b1f8-e1a493e76bc9",
        "colab": {
          "base_uri": "https://localhost:8080/",
          "height": 34
        }
      },
      "source": [
        "shopping_list.pop(1)\n",
        "print(shopping_list)"
      ],
      "execution_count": 0,
      "outputs": [
        {
          "output_type": "stream",
          "text": [
            "['milk']\n"
          ],
          "name": "stdout"
        }
      ]
    },
    {
      "cell_type": "code",
      "metadata": {
        "id": "GAIaIezUPdzb",
        "colab_type": "code",
        "outputId": "9e126e3b-4a32-4864-cddd-bf9262132049",
        "colab": {
          "base_uri": "https://localhost:8080/",
          "height": 34
        }
      },
      "source": [
        "shopping_price.pop(1)\n",
        "print(shopping_price)"
      ],
      "execution_count": 0,
      "outputs": [
        {
          "output_type": "stream",
          "text": [
            "[50.0]\n"
          ],
          "name": "stdout"
        }
      ]
    },
    {
      "cell_type": "markdown",
      "metadata": {
        "id": "Sw26BcP2TWin",
        "colab_type": "text"
      },
      "source": [
        "### แสดงข้อมูล index ของ list"
      ]
    },
    {
      "cell_type": "code",
      "metadata": {
        "id": "iGXOGYouPo-v",
        "colab_type": "code",
        "outputId": "76b0c2ba-610a-45ed-dab3-fe0a59775367",
        "colab": {
          "base_uri": "https://localhost:8080/",
          "height": 119
        }
      },
      "source": [
        "# แสดงข้อมูลใน list พร้อมทั้ง index\n",
        "print('Index \\t Name \\t Price')\n",
        "print('='*20)\n",
        "for idx, lst in enumerate(zip(shopping_list, shopping_price)):\n",
        "  print(idx, '\\t', lst[0], '\\t', lst[1])"
      ],
      "execution_count": 0,
      "outputs": [
        {
          "output_type": "stream",
          "text": [
            "Index \t Name \t Price\n",
            "====================\n",
            "0 \t milk \t 50.0\n",
            "1 \t milk \t 50.0\n",
            "2 \t rice \t 50.0\n",
            "3 \t soup \t 21.0\n"
          ],
          "name": "stdout"
        }
      ]
    },
    {
      "cell_type": "markdown",
      "metadata": {
        "id": "U8jLYxVJTbBS",
        "colab_type": "text"
      },
      "source": [
        "### สร้างเงื่อนไข if เพื่อลบข้อมูลออกจาก list"
      ]
    },
    {
      "cell_type": "code",
      "metadata": {
        "id": "EVKfIQrmQLp9",
        "colab_type": "code",
        "outputId": "5ce2fd53-12a0-46c3-c9cc-046b7f036c0e",
        "colab": {
          "base_uri": "https://localhost:8080/",
          "height": 78
        }
      },
      "source": [
        "# เลือก index ที่จะลบ\n",
        "del_idx = int(input('Enter index you want to remove from shopping list: '))\n",
        "\n",
        "if((del_idx >= 0) and (del_idx < len(shopping_list))):\n",
        "  shopping_list.pop(del_idx)\n",
        "  shopping_price.pop(del_idx)"
      ],
      "execution_count": 0,
      "outputs": [
        {
          "output_type": "stream",
          "text": [
            "Enter index you want to remove from shopping list: 0\n"
          ],
          "name": "stdout"
        }
      ]
    },
    {
      "cell_type": "markdown",
      "metadata": {
        "id": "wpp_BXNdThFH",
        "colab_type": "text"
      },
      "source": [
        "### แสดงข้อมูลใน list หลังจากลบ"
      ]
    },
    {
      "cell_type": "code",
      "metadata": {
        "id": "L2H2MccARTKo",
        "colab_type": "code",
        "outputId": "19b9eca7-535f-47d1-df8d-6929012dadd7",
        "colab": {
          "base_uri": "https://localhost:8080/",
          "height": 102
        }
      },
      "source": [
        "# แสดงข้อมูลใน list หลังจาก ลบ\n",
        "print('Index \\t Name \\t Price')\n",
        "print('='*20)\n",
        "for idx, lst in enumerate(zip(shopping_list, shopping_price)):\n",
        "  print(idx, '\\t', lst[0], '\\t', lst[1])"
      ],
      "execution_count": 0,
      "outputs": [
        {
          "output_type": "stream",
          "text": [
            "Index \t Name \t Price\n",
            "====================\n",
            "0 \t milk \t 50.0\n",
            "1 \t rice \t 50.0\n",
            "2 \t soup \t 21.0\n"
          ],
          "name": "stdout"
        }
      ]
    },
    {
      "cell_type": "markdown",
      "metadata": {
        "id": "KF8AWDdpUmTt",
        "colab_type": "text"
      },
      "source": [
        "## สร้างฟังก์ชันเพื่อใช้แสดงเมนู"
      ]
    },
    {
      "cell_type": "code",
      "metadata": {
        "id": "WGUfPjkwWjdK",
        "colab_type": "code",
        "colab": {}
      },
      "source": [
        "import sys"
      ],
      "execution_count": 0,
      "outputs": []
    },
    {
      "cell_type": "code",
      "metadata": {
        "id": "qK31-40wVD_S",
        "colab_type": "code",
        "colab": {}
      },
      "source": [
        "def show_list():\n",
        "  print('Your shopping list')\n",
        "  print('='*20)\n",
        "  print('list \\t price')\n",
        "  print('='*20)\n",
        "  for lst, price in zip(shopping_list, shopping_price):\n",
        "    print(lst, '\\t', price, 'B')\n",
        "  print('-'*20)\n",
        "  print('Total \\t', sum(shopping_price), 'B')\n",
        "  print('='*20)"
      ],
      "execution_count": 0,
      "outputs": []
    },
    {
      "cell_type": "code",
      "metadata": {
        "id": "xmL9TvZEVLP7",
        "colab_type": "code",
        "colab": {}
      },
      "source": [
        "def add_list():\n",
        "  chk_loop = True\n",
        "  while(chk_loop):\n",
        "    try:\n",
        "      s_list = input('Enter item you want to buy: ')\n",
        "      s_price = float(input('Enter price you want to pay (Baht): '))\n",
        "\n",
        "      shopping_list.append(s_list)\n",
        "      shopping_price.append(s_price)\n",
        "    except:\n",
        "      pass\n",
        "\n",
        "    chk = input('Do you want to add more item (y/n)? ')\n",
        "    if((chk != 'y') and (chk != 'Y')):\n",
        "      chk_loop = False\n",
        "      pass\n",
        "  "
      ],
      "execution_count": 0,
      "outputs": []
    },
    {
      "cell_type": "code",
      "metadata": {
        "id": "uQxEazegVdJq",
        "colab_type": "code",
        "colab": {}
      },
      "source": [
        "def delete_list():\n",
        "  # แสดงข้อมูลใน list พร้อมทั้ง index\n",
        "  print('Index \\t Name \\t Price')\n",
        "  print('='*20)\n",
        "  for idx, lst in enumerate(zip(shopping_list, shopping_price)):\n",
        "    print(idx, '\\t', lst[0], '\\t', lst[1])\n",
        "    \n",
        "  # เลือก index ที่จะลบ\n",
        "  del_idx = int(input('Enter index you want to remove from shopping list: '))\n",
        "\n",
        "  if((del_idx >= 0) and (del_idx < len(shopping_list))):\n",
        "    shopping_list.pop(del_idx)\n",
        "    shopping_price.pop(del_idx)  "
      ],
      "execution_count": 0,
      "outputs": []
    },
    {
      "cell_type": "code",
      "metadata": {
        "id": "K7Dktr9QRUAQ",
        "colab_type": "code",
        "colab": {}
      },
      "source": [
        "def menu():\n",
        "  print('1. Show shopping list')\n",
        "  print('2. Add shopping list')\n",
        "  print('3. Delete shopping list')\n",
        "  print('4. Exit')\n",
        "  \n",
        "  chk = int(input('Enter number 1-4: '))\n",
        "  if(chk == 1):\n",
        "    show_list()\n",
        "  elif(chk == 2):\n",
        "    add_list()\n",
        "  elif(chk == 3):\n",
        "    delete_list()\n",
        "  elif(chk == 4):\n",
        "    sys.exit()\n",
        "      \n",
        "  "
      ],
      "execution_count": 0,
      "outputs": []
    },
    {
      "cell_type": "code",
      "metadata": {
        "id": "vKezBmVXVpsw",
        "colab_type": "code",
        "outputId": "4d7d9808-e7b4-48e0-d5c2-45677723bbbf",
        "colab": {
          "base_uri": "https://localhost:8080/",
          "height": 1204
        }
      },
      "source": [
        "while(True):\n",
        "  menu()\n"
      ],
      "execution_count": 0,
      "outputs": [
        {
          "output_type": "stream",
          "text": [
            "1. Show shopping list\n",
            "2. Add shopping list\n",
            "3. Delete shopping list\n",
            "4. Exit\n",
            "Enter number 1-4: 1\n",
            "Your shopping list\n",
            "====================\n",
            "list \t price\n",
            "====================\n",
            "milk \t 50.0 B\n",
            "rice \t 50.0 B\n",
            "soup \t 21.0 B\n",
            "--------------------\n",
            "Total \t 121.0 B\n",
            "====================\n",
            "1. Show shopping list\n",
            "2. Add shopping list\n",
            "3. Delete shopping list\n",
            "4. Exit\n",
            "Enter number 1-4: 2\n",
            "Enter item you want to buy: ss\n",
            "Enter price you want to pay (Baht): 2\n",
            "Do you want to add more item (y/n)? y\n",
            "Enter item you want to buy: ee\n",
            "Enter price you want to pay (Baht): 3\n",
            "Do you want to add more item (y/n)? n\n",
            "1. Show shopping list\n",
            "2. Add shopping list\n",
            "3. Delete shopping list\n",
            "4. Exit\n",
            "Enter number 1-4: 1\n",
            "Your shopping list\n",
            "====================\n",
            "list \t price\n",
            "====================\n",
            "milk \t 50.0 B\n",
            "rice \t 50.0 B\n",
            "soup \t 21.0 B\n",
            "ss \t 2.0 B\n",
            "ee \t 3.0 B\n",
            "--------------------\n",
            "Total \t 126.0 B\n",
            "====================\n",
            "1. Show shopping list\n",
            "2. Add shopping list\n",
            "3. Delete shopping list\n",
            "4. Exit\n",
            "Enter number 1-4: 3\n",
            "Index \t Name \t Price\n",
            "====================\n",
            "0 \t milk \t 50.0\n",
            "1 \t rice \t 50.0\n",
            "2 \t soup \t 21.0\n",
            "3 \t ss \t 2.0\n",
            "4 \t ee \t 3.0\n",
            "Enter index you want to remove from shopping list: 4\n",
            "1. Show shopping list\n",
            "2. Add shopping list\n",
            "3. Delete shopping list\n",
            "4. Exit\n",
            "Enter number 1-4: 4\n"
          ],
          "name": "stdout"
        },
        {
          "output_type": "error",
          "ename": "SystemExit",
          "evalue": "ignored",
          "traceback": [
            "An exception has occurred, use %tb to see the full traceback.\n",
            "\u001b[0;31mSystemExit\u001b[0m\n"
          ]
        },
        {
          "output_type": "stream",
          "text": [
            "/usr/local/lib/python3.6/dist-packages/IPython/core/interactiveshell.py:2890: UserWarning: To exit: use 'exit', 'quit', or Ctrl-D.\n",
            "  warn(\"To exit: use 'exit', 'quit', or Ctrl-D.\", stacklevel=1)\n"
          ],
          "name": "stderr"
        }
      ]
    },
    {
      "cell_type": "code",
      "metadata": {
        "id": "mTrd-EDKVyug",
        "colab_type": "code",
        "colab": {}
      },
      "source": [
        ""
      ],
      "execution_count": 0,
      "outputs": []
    }
  ]
}